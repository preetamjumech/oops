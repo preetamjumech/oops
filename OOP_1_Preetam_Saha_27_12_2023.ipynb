{
  "nbformat": 4,
  "nbformat_minor": 0,
  "metadata": {
    "colab": {
      "provenance": [],
      "authorship_tag": "ABX9TyM2LCGhK+0t/1XwOhiBMOsv",
      "include_colab_link": true
    },
    "kernelspec": {
      "name": "python3",
      "display_name": "Python 3"
    },
    "language_info": {
      "name": "python"
    }
  },
  "cells": [
    {
      "cell_type": "markdown",
      "metadata": {
        "id": "view-in-github",
        "colab_type": "text"
      },
      "source": [
        "<a href=\"https://colab.research.google.com/github/preetamjumech/oops/blob/main/OOP_1_Preetam_Saha_27_12_2023.ipynb\" target=\"_parent\"><img src=\"https://colab.research.google.com/assets/colab-badge.svg\" alt=\"Open In Colab\"/></a>"
      ]
    },
    {
      "cell_type": "code",
      "execution_count": null,
      "metadata": {
        "colab": {
          "base_uri": "https://localhost:8080/",
          "height": 193
        },
        "id": "dtv313x5D6TP",
        "outputId": "31bb2dbd-a3d3-4ce1-8e02-c038108c239a"
      },
      "outputs": [
        {
          "output_type": "error",
          "ename": "AttributeError",
          "evalue": "ignored",
          "traceback": [
            "\u001b[0;31m---------------------------------------------------------------------------\u001b[0m",
            "\u001b[0;31mAttributeError\u001b[0m                            Traceback (most recent call last)",
            "\u001b[0;32m<ipython-input-1-6aa40e193c77>\u001b[0m in \u001b[0;36m<cell line: 2>\u001b[0;34m()\u001b[0m\n\u001b[1;32m      1\u001b[0m \u001b[0ml\u001b[0m \u001b[0;34m=\u001b[0m \u001b[0;34m[\u001b[0m\u001b[0;36m1\u001b[0m\u001b[0;34m,\u001b[0m\u001b[0;36m2\u001b[0m\u001b[0;34m,\u001b[0m\u001b[0;36m3\u001b[0m\u001b[0;34m]\u001b[0m\u001b[0;34m\u001b[0m\u001b[0;34m\u001b[0m\u001b[0m\n\u001b[0;32m----> 2\u001b[0;31m \u001b[0ml\u001b[0m\u001b[0;34m.\u001b[0m\u001b[0mupper\u001b[0m\u001b[0;34m(\u001b[0m\u001b[0;34m)\u001b[0m\u001b[0;34m\u001b[0m\u001b[0;34m\u001b[0m\u001b[0m\n\u001b[0m",
            "\u001b[0;31mAttributeError\u001b[0m: 'list' object has no attribute 'upper'"
          ]
        }
      ],
      "source": [
        "l = [1,2,3]\n",
        "l.upper()"
      ]
    },
    {
      "cell_type": "code",
      "source": [
        "s = \"preetam\"\n",
        "s.append()"
      ],
      "metadata": {
        "colab": {
          "base_uri": "https://localhost:8080/",
          "height": 193
        },
        "id": "ZiH5_D9TEJTy",
        "outputId": "68083b85-8c2a-4623-e612-0aa79909fe03"
      },
      "execution_count": null,
      "outputs": [
        {
          "output_type": "error",
          "ename": "AttributeError",
          "evalue": "ignored",
          "traceback": [
            "\u001b[0;31m---------------------------------------------------------------------------\u001b[0m",
            "\u001b[0;31mAttributeError\u001b[0m                            Traceback (most recent call last)",
            "\u001b[0;32m<ipython-input-2-00f784db84c4>\u001b[0m in \u001b[0;36m<cell line: 2>\u001b[0;34m()\u001b[0m\n\u001b[1;32m      1\u001b[0m \u001b[0ms\u001b[0m \u001b[0;34m=\u001b[0m \u001b[0;34m\"preetam\"\u001b[0m\u001b[0;34m\u001b[0m\u001b[0;34m\u001b[0m\u001b[0m\n\u001b[0;32m----> 2\u001b[0;31m \u001b[0ms\u001b[0m\u001b[0;34m.\u001b[0m\u001b[0mappend\u001b[0m\u001b[0;34m(\u001b[0m\u001b[0;34m)\u001b[0m\u001b[0;34m\u001b[0m\u001b[0;34m\u001b[0m\u001b[0m\n\u001b[0m",
            "\u001b[0;31mAttributeError\u001b[0m: 'str' object has no attribute 'append'"
          ]
        }
      ]
    },
    {
      "cell_type": "code",
      "source": [
        "l = [1,2,3]\n",
        "print(type(l))"
      ],
      "metadata": {
        "colab": {
          "base_uri": "https://localhost:8080/"
        },
        "id": "6VXzQCZfEPZR",
        "outputId": "33c6a13e-f871-4129-ee5b-1fe998148c87"
      },
      "execution_count": null,
      "outputs": [
        {
          "output_type": "stream",
          "name": "stdout",
          "text": [
            "<class 'list'>\n"
          ]
        }
      ]
    },
    {
      "cell_type": "code",
      "source": [
        "l = list()\n",
        "l"
      ],
      "metadata": {
        "colab": {
          "base_uri": "https://localhost:8080/"
        },
        "id": "NK69D_X_EUCa",
        "outputId": "fb6ebf9c-ea4f-4d63-dc59-847f870f763c"
      },
      "execution_count": null,
      "outputs": [
        {
          "output_type": "execute_result",
          "data": {
            "text/plain": [
              "[]"
            ]
          },
          "metadata": {},
          "execution_count": 6
        }
      ]
    },
    {
      "cell_type": "code",
      "source": [
        "s = str()\n",
        "s"
      ],
      "metadata": {
        "colab": {
          "base_uri": "https://localhost:8080/",
          "height": 35
        },
        "id": "VUG1hCT2Eejr",
        "outputId": "2c8da7de-968b-46b9-dcf3-572a83ac00ef"
      },
      "execution_count": null,
      "outputs": [
        {
          "output_type": "execute_result",
          "data": {
            "text/plain": [
              "''"
            ],
            "application/vnd.google.colaboratory.intrinsic+json": {
              "type": "string"
            }
          },
          "metadata": {},
          "execution_count": 7
        }
      ]
    },
    {
      "cell_type": "markdown",
      "source": [
        "# Fraction class"
      ],
      "metadata": {
        "id": "YUw48ZlTFEk2"
      }
    },
    {
      "cell_type": "code",
      "source": [
        "class Fraction:\n",
        "  def __init__(self, num, den):\n",
        "    self.num = num\n",
        "    self.den = den\n",
        "\n",
        "  def __str__(self):\n",
        "    return '{}/{}'.format(self.num,self.den)\n",
        "\n",
        "  def __add__(self,other):\n",
        "    new_num = self.num * other.den + self.den* other.num\n",
        "    new_den = self.den * other.den\n",
        "    return '{}/{}'.format(new_num,new_den)\n",
        "\n",
        "  def __sub__(self, other):\n",
        "    new_num = self.num * other.den - self.den* other.num\n",
        "    new_den = self.den * other.den\n",
        "    return '{}/{}'.format(new_num,new_den)\n",
        "\n",
        "  def __mul__(self,other):\n",
        "    new_num = self.num * other.num\n",
        "    new_den = self.den * other.den\n",
        "    return '{}/{}'.format(new_num,new_den)\n",
        "\n",
        "  def __truediv__(self,other):\n",
        "    new_num = self.num * other.den\n",
        "    new_den = self.den * other.num\n",
        "    return '{}/{}'.format(new_num,new_den)\n",
        "\n",
        "  def convert_to_decimal(self):\n",
        "    return self.num/self.den\n"
      ],
      "metadata": {
        "id": "2qHzqX3zElQ1"
      },
      "execution_count": null,
      "outputs": []
    },
    {
      "cell_type": "code",
      "source": [
        "f1 = Fraction(3,4)\n",
        "f2 = Fraction(6,7)"
      ],
      "metadata": {
        "id": "mFRPLKfiLSSK"
      },
      "execution_count": null,
      "outputs": []
    },
    {
      "cell_type": "code",
      "source": [
        "f1.convert_to_decimal()"
      ],
      "metadata": {
        "colab": {
          "base_uri": "https://localhost:8080/"
        },
        "id": "bWHIxg2hLjvV",
        "outputId": "ba47a384-49d9-4a43-c613-4f138b9de9e5"
      },
      "execution_count": null,
      "outputs": [
        {
          "output_type": "execute_result",
          "data": {
            "text/plain": [
              "0.75"
            ]
          },
          "metadata": {},
          "execution_count": 44
        }
      ]
    },
    {
      "cell_type": "code",
      "source": [
        "print(f1 + f2)\n",
        "print(f1 - f2)\n",
        "print(f1 * f2)\n",
        "print(f1 / f2)"
      ],
      "metadata": {
        "colab": {
          "base_uri": "https://localhost:8080/"
        },
        "id": "WKyRpb9gLu4u",
        "outputId": "a38d08ce-b966-41a1-a263-f65dbf0e3d1d"
      },
      "execution_count": null,
      "outputs": [
        {
          "output_type": "stream",
          "name": "stdout",
          "text": [
            "45/28\n",
            "-3/28\n",
            "18/28\n",
            "21/24\n"
          ]
        }
      ]
    },
    {
      "cell_type": "code",
      "source": [
        "s1 = {1,2,4}\n",
        "s2 = {3,6,7}\n",
        "\n",
        "print(s1+s2)"
      ],
      "metadata": {
        "colab": {
          "base_uri": "https://localhost:8080/",
          "height": 210
        },
        "id": "v1lXbvAVLzpF",
        "outputId": "4bb92338-39f9-4ceb-9814-10da3dac414d"
      },
      "execution_count": null,
      "outputs": [
        {
          "output_type": "error",
          "ename": "TypeError",
          "evalue": "ignored",
          "traceback": [
            "\u001b[0;31m---------------------------------------------------------------------------\u001b[0m",
            "\u001b[0;31mTypeError\u001b[0m                                 Traceback (most recent call last)",
            "\u001b[0;32m<ipython-input-34-84214e4eacc3>\u001b[0m in \u001b[0;36m<cell line: 4>\u001b[0;34m()\u001b[0m\n\u001b[1;32m      2\u001b[0m \u001b[0ms2\u001b[0m \u001b[0;34m=\u001b[0m \u001b[0;34m{\u001b[0m\u001b[0;36m3\u001b[0m\u001b[0;34m,\u001b[0m\u001b[0;36m6\u001b[0m\u001b[0;34m,\u001b[0m\u001b[0;36m7\u001b[0m\u001b[0;34m}\u001b[0m\u001b[0;34m\u001b[0m\u001b[0;34m\u001b[0m\u001b[0m\n\u001b[1;32m      3\u001b[0m \u001b[0;34m\u001b[0m\u001b[0m\n\u001b[0;32m----> 4\u001b[0;31m \u001b[0mprint\u001b[0m\u001b[0;34m(\u001b[0m\u001b[0ms1\u001b[0m\u001b[0;34m+\u001b[0m\u001b[0ms2\u001b[0m\u001b[0;34m)\u001b[0m\u001b[0;34m\u001b[0m\u001b[0;34m\u001b[0m\u001b[0m\n\u001b[0m",
            "\u001b[0;31mTypeError\u001b[0m: unsupported operand type(s) for +: 'set' and 'set'"
          ]
        }
      ]
    },
    {
      "cell_type": "markdown",
      "source": [
        "# ATM class"
      ],
      "metadata": {
        "id": "17qG5e4mDGDg"
      }
    },
    {
      "cell_type": "code",
      "source": [
        "class Atm:\n",
        "\n",
        "  def __init__(self):\n",
        "    self.pin = \"\"\n",
        "    self.balance = 0\n",
        "    self.menu()\n",
        "\n",
        "  def menu(self):\n",
        "    user_input = input(\n",
        "        \"\"\"\n",
        "         Hi how can I help you?\n",
        "    1. Press 1 to create pin\n",
        "    2. Press 2 to change pin\n",
        "    3. Press 3 to check balance\n",
        "    4. Press 4 to withdraw\n",
        "    5. Anything else to exit\n",
        "         \"\"\"\n",
        "    )\n",
        "\n",
        "    if user_input == \"1\":\n",
        "      self.create_pin()\n",
        "    elif user_input == \"2\":\n",
        "      self.change_pin()\n",
        "    elif user_input == \"3\":\n",
        "      self.check_balance()\n",
        "    elif user_input == \"4\":\n",
        "      self.withdraw()\n",
        "    else:\n",
        "      exit()\n",
        "\n",
        "  def create_pin(self):\n",
        "    user_pin = input(\"Enter your pin: \")\n",
        "    self.pin = user_pin\n",
        "\n",
        "    user_balance = int(input(\"Enter your balance: \"))\n",
        "    self.balance = user_balance\n",
        "\n",
        "    print(\"Pin set\")\n",
        "    self.menu()\n",
        "\n",
        "  def change_pin(self):\n",
        "    user_old = input(\"Enter your old pin: \")\n",
        "    if user_old == self.pin:\n",
        "      user_new = input(\"enter new pin: \")\n",
        "      self.pin = user_new\n",
        "      print(\"Pin changed\")\n",
        "      self.menu()\n",
        "    else:\n",
        "      print(\"Wrong pin entered\")\n",
        "      self.menu()\n",
        "\n",
        "  def check_balance(self):\n",
        "    user_pin = input(\"Enter your pin: \")\n",
        "    if user_pin == self.pin:\n",
        "      print(\"Your balance is: \", self.balance)\n",
        "    else:\n",
        "      print(\"Wrong Person\")\n",
        "    self.menu()\n",
        "\n",
        "  def withdraw(self):\n",
        "    user_pin = input(\"Enter your pin: \")\n",
        "    if user_pin == self.pin:\n",
        "      amount = int(input(\"Enter the amount: \"))\n",
        "      if amount <= self.balance:\n",
        "        self.balance -= amount\n",
        "        print(amount ,\"withdrawn\")\n",
        "        print(\"balance: \", self.balance)\n",
        "      else:\n",
        "        print(\"you dont have sufficient balance\")\n",
        "    else:\n",
        "      print(\"Wrong pin entered\")\n",
        "    self.menu()\n"
      ],
      "metadata": {
        "id": "TngbMTtfM6_F"
      },
      "execution_count": null,
      "outputs": []
    },
    {
      "cell_type": "code",
      "source": [
        "obj = Atm()"
      ],
      "metadata": {
        "colab": {
          "base_uri": "https://localhost:8080/"
        },
        "id": "koDwZPRuXfwY",
        "outputId": "313efda2-1451-461b-d082-a10b96ee6dd2"
      },
      "execution_count": null,
      "outputs": [
        {
          "name": "stdout",
          "output_type": "stream",
          "text": [
            "\n",
            "         Hi how can I help you?\n",
            "    1. Press 1 to create pin\n",
            "    2. Press 2 to change pin\n",
            "    3. Press 3 to check balance\n",
            "    4. Press 4 to withdraw\n",
            "    5. Anything else to exit\n",
            "         1\n",
            "Enter your pin: 1234\n",
            "Enter your balance: 1000\n",
            "Pin set\n",
            "\n",
            "         Hi how can I help you?\n",
            "    1. Press 1 to create pin\n",
            "    2. Press 2 to change pin\n",
            "    3. Press 3 to check balance\n",
            "    4. Press 4 to withdraw\n",
            "    5. Anything else to exit\n",
            "         3\n",
            "Enter your pin: 1234\n",
            "Your balance is:  1000\n",
            "\n",
            "         Hi how can I help you?\n",
            "    1. Press 1 to create pin\n",
            "    2. Press 2 to change pin\n",
            "    3. Press 3 to check balance\n",
            "    4. Press 4 to withdraw\n",
            "    5. Anything else to exit\n",
            "         4\n",
            "Enter your pin: 1234\n",
            "Enter the amount: 500\n",
            "500 withdrawn\n",
            "balance:  500\n",
            "\n",
            "         Hi how can I help you?\n",
            "    1. Press 1 to create pin\n",
            "    2. Press 2 to change pin\n",
            "    3. Press 3 to check balance\n",
            "    4. Press 4 to withdraw\n",
            "    5. Anything else to exit\n",
            "         5\n"
          ]
        }
      ]
    },
    {
      "cell_type": "code",
      "source": [
        "L = [1,2,3]\n",
        "len(L) # function ->bcos it is outside the list class\n",
        "L.append()# method -> bcos it is inside the list class"
      ],
      "metadata": {
        "colab": {
          "base_uri": "https://localhost:8080/",
          "height": 210
        },
        "id": "LSDxgBCUXlu0",
        "outputId": "c0d57edf-76f8-48f4-a83a-3430df374cf0"
      },
      "execution_count": null,
      "outputs": [
        {
          "output_type": "error",
          "ename": "TypeError",
          "evalue": "ignored",
          "traceback": [
            "\u001b[0;31m---------------------------------------------------------------------------\u001b[0m",
            "\u001b[0;31mTypeError\u001b[0m                                 Traceback (most recent call last)",
            "\u001b[0;32m<ipython-input-1-6e25125f8329>\u001b[0m in \u001b[0;36m<cell line: 3>\u001b[0;34m()\u001b[0m\n\u001b[1;32m      1\u001b[0m \u001b[0mL\u001b[0m \u001b[0;34m=\u001b[0m \u001b[0;34m[\u001b[0m\u001b[0;36m1\u001b[0m\u001b[0;34m,\u001b[0m\u001b[0;36m2\u001b[0m\u001b[0;34m,\u001b[0m\u001b[0;36m3\u001b[0m\u001b[0;34m]\u001b[0m\u001b[0;34m\u001b[0m\u001b[0;34m\u001b[0m\u001b[0m\n\u001b[1;32m      2\u001b[0m \u001b[0mlen\u001b[0m\u001b[0;34m(\u001b[0m\u001b[0mL\u001b[0m\u001b[0;34m)\u001b[0m \u001b[0;31m# function ->bcos it is outside the list class\u001b[0m\u001b[0;34m\u001b[0m\u001b[0;34m\u001b[0m\u001b[0m\n\u001b[0;32m----> 3\u001b[0;31m \u001b[0mL\u001b[0m\u001b[0;34m.\u001b[0m\u001b[0mappend\u001b[0m\u001b[0;34m(\u001b[0m\u001b[0;34m)\u001b[0m\u001b[0;31m# method -> bcos it is inside the list class\u001b[0m\u001b[0;34m\u001b[0m\u001b[0;34m\u001b[0m\u001b[0m\n\u001b[0m",
            "\u001b[0;31mTypeError\u001b[0m: list.append() takes exactly one argument (0 given)"
          ]
        }
      ]
    },
    {
      "cell_type": "markdown",
      "source": [
        "# Cordinate Geometry class"
      ],
      "metadata": {
        "id": "68WkTSOIDCUM"
      }
    },
    {
      "cell_type": "code",
      "source": [
        "class Point:\n",
        "\n",
        "  def __init__(self, x,y):\n",
        "    self.x_cod = x\n",
        "    self.y_cod = y\n",
        "\n",
        "  def __str__(self):\n",
        "    return \"<{},{}>\".format(self.x_cod,self.y_cod)\n",
        "\n",
        "  def euclidean_distance(self, other):\n",
        "    return ((self.x_cod - other.x_cod)**2 + (self.y_cod - other.y_cod)**2)**0.5\n",
        "\n",
        "  def euclidean_distance_from_origin(self):\n",
        "    return self.euclidean_distance(Point(0,0))\n",
        "\n",
        "\n",
        "class Line:\n",
        "  def __init__(self, A,B,C):\n",
        "    self.A = A\n",
        "    self.B = B\n",
        "    self.C = C\n",
        "\n",
        "  def __str__(self):\n",
        "    return \"{}x + {}y + {} = 0\".format(self.A,self.B,self.C)\n",
        "\n",
        "  def point_on_line(line,point):\n",
        "    if (line.A * point.x_cod + line.B * point.y_cod + line.C) == 0:\n",
        "      return \"Point on the line\"\n",
        "    else:\n",
        "      return \"Point doesnot lie on the line\"\n",
        "\n",
        "  def shortest_distance(line, point):\n",
        "    return abs((line.A * point.x_cod + line.B * point.y_cod + line.C)/((line.A**2+line.B**2)**0.5))"
      ],
      "metadata": {
        "id": "7pJzmNxsmDyx"
      },
      "execution_count": null,
      "outputs": []
    },
    {
      "cell_type": "code",
      "source": [
        "p1 = Point(0,0)\n",
        "p2 = Point(1,1)\n",
        "print(p1)\n",
        "p1.euclidean_distance(p2)\n",
        "p2.euclidean_distance_from_origin()"
      ],
      "metadata": {
        "colab": {
          "base_uri": "https://localhost:8080/"
        },
        "id": "ZVCQn38VD55u",
        "outputId": "d80b2df1-44b2-42b8-9cb4-479d7a823207"
      },
      "execution_count": null,
      "outputs": [
        {
          "output_type": "stream",
          "name": "stdout",
          "text": [
            "<0,0>\n"
          ]
        },
        {
          "output_type": "execute_result",
          "data": {
            "text/plain": [
              "1.4142135623730951"
            ]
          },
          "metadata": {},
          "execution_count": 11
        }
      ]
    },
    {
      "cell_type": "code",
      "source": [
        "l1  = Line(2,3,4)\n",
        "print(l1)"
      ],
      "metadata": {
        "colab": {
          "base_uri": "https://localhost:8080/"
        },
        "id": "ek4A6J5YEEUJ",
        "outputId": "cf370489-7b21-4fcf-b811-d1e9b43ebd51"
      },
      "execution_count": null,
      "outputs": [
        {
          "output_type": "stream",
          "name": "stdout",
          "text": [
            "2x + 3y + 4 = 0\n"
          ]
        }
      ]
    },
    {
      "cell_type": "code",
      "source": [
        "l1  = Line(2,3,4)\n",
        "p1 = Point(0,0)\n",
        "l1.point_on_line(p1)"
      ],
      "metadata": {
        "colab": {
          "base_uri": "https://localhost:8080/",
          "height": 35
        },
        "id": "tdIS5RUaP0D0",
        "outputId": "0e7a24e4-253d-402f-a347-e5eac55a0421"
      },
      "execution_count": null,
      "outputs": [
        {
          "output_type": "execute_result",
          "data": {
            "text/plain": [
              "'Point doesnot lie on the line'"
            ],
            "application/vnd.google.colaboratory.intrinsic+json": {
              "type": "string"
            }
          },
          "metadata": {},
          "execution_count": 17
        }
      ]
    },
    {
      "cell_type": "code",
      "source": [
        "l1  = Line(2,3,4)\n",
        "p1 = Point(0,0)\n",
        "l1.shortest_distance(p1)"
      ],
      "metadata": {
        "colab": {
          "base_uri": "https://localhost:8080/"
        },
        "id": "8PLBoXTUSOTT",
        "outputId": "6afe362c-764a-461c-8563-37d32d4c1794"
      },
      "execution_count": null,
      "outputs": [
        {
          "output_type": "execute_result",
          "data": {
            "text/plain": [
              "1.1094003924504583"
            ]
          },
          "metadata": {},
          "execution_count": 19
        }
      ]
    },
    {
      "cell_type": "markdown",
      "source": [
        "# creating attributes outside the class"
      ],
      "metadata": {
        "id": "eNtiM7NqVgRR"
      }
    },
    {
      "cell_type": "code",
      "source": [
        "class Person:\n",
        "  def __init__(self, name, country):\n",
        "    self.name = name\n",
        "    self.country = country\n",
        "\n",
        "  def greet(self):\n",
        "    if self.country == \"india\":\n",
        "      print(\"namaste {}\".format(self.name))\n",
        "    else:\n",
        "      print(\"hello {}\".format(self.name))\n"
      ],
      "metadata": {
        "id": "kotBnKPBTXnk"
      },
      "execution_count": null,
      "outputs": []
    },
    {
      "cell_type": "code",
      "source": [
        "p1= Person(\"preetam\", \"india\")"
      ],
      "metadata": {
        "id": "fXQZxL8dWwuh"
      },
      "execution_count": null,
      "outputs": []
    },
    {
      "cell_type": "code",
      "source": [
        "p1.greet()"
      ],
      "metadata": {
        "colab": {
          "base_uri": "https://localhost:8080/"
        },
        "id": "bbMZfMx0W4pp",
        "outputId": "5166522e-3b30-465f-a7d3-66710abc92ef"
      },
      "execution_count": null,
      "outputs": [
        {
          "output_type": "stream",
          "name": "stdout",
          "text": [
            "namaste preetam\n"
          ]
        }
      ]
    },
    {
      "cell_type": "code",
      "source": [
        "p1.gender"
      ],
      "metadata": {
        "colab": {
          "base_uri": "https://localhost:8080/",
          "height": 175
        },
        "id": "K9wpzyVIW8uM",
        "outputId": "14c423a1-e40b-433e-ed2b-1dd3d9eb2d7d"
      },
      "execution_count": null,
      "outputs": [
        {
          "output_type": "error",
          "ename": "AttributeError",
          "evalue": "ignored",
          "traceback": [
            "\u001b[0;31m---------------------------------------------------------------------------\u001b[0m",
            "\u001b[0;31mAttributeError\u001b[0m                            Traceback (most recent call last)",
            "\u001b[0;32m<ipython-input-26-70dfff6e477c>\u001b[0m in \u001b[0;36m<cell line: 1>\u001b[0;34m()\u001b[0m\n\u001b[0;32m----> 1\u001b[0;31m \u001b[0mp1\u001b[0m\u001b[0;34m.\u001b[0m\u001b[0mgender\u001b[0m\u001b[0;34m\u001b[0m\u001b[0;34m\u001b[0m\u001b[0m\n\u001b[0m",
            "\u001b[0;31mAttributeError\u001b[0m: 'Person' object has no attribute 'gender'"
          ]
        }
      ]
    },
    {
      "cell_type": "code",
      "source": [
        "p1.gender = \"male\""
      ],
      "metadata": {
        "id": "vjEFkwkXaSrU"
      },
      "execution_count": null,
      "outputs": []
    },
    {
      "cell_type": "code",
      "source": [
        "p1.gender"
      ],
      "metadata": {
        "colab": {
          "base_uri": "https://localhost:8080/",
          "height": 35
        },
        "id": "xMKfOd_VaVmj",
        "outputId": "d5a24149-11be-4558-d257-82b70c7c6a10"
      },
      "execution_count": null,
      "outputs": [
        {
          "output_type": "execute_result",
          "data": {
            "text/plain": [
              "'male'"
            ],
            "application/vnd.google.colaboratory.intrinsic+json": {
              "type": "string"
            }
          },
          "metadata": {},
          "execution_count": 28
        }
      ]
    },
    {
      "cell_type": "markdown",
      "source": [
        "# Reference variable"
      ],
      "metadata": {
        "id": "gegb2qTBa0lN"
      }
    },
    {
      "cell_type": "code",
      "source": [
        "class Person:\n",
        "  def __init__(self):\n",
        "    self.name = \"preetam\"\n",
        "    self.gender = \"male\"\n",
        "\n",
        "p = Person() # p stores the address of the object that has been created\n",
        "p"
      ],
      "metadata": {
        "colab": {
          "base_uri": "https://localhost:8080/"
        },
        "id": "r4VzazV0aW8T",
        "outputId": "3b40393b-5dfb-4343-d89e-9e1f881563ed"
      },
      "execution_count": null,
      "outputs": [
        {
          "output_type": "execute_result",
          "data": {
            "text/plain": [
              "<__main__.Person at 0x79edfd444730>"
            ]
          },
          "metadata": {},
          "execution_count": 30
        }
      ]
    },
    {
      "cell_type": "code",
      "source": [
        "q = p"
      ],
      "metadata": {
        "id": "EyS5IWg5bCJU"
      },
      "execution_count": null,
      "outputs": []
    },
    {
      "cell_type": "code",
      "source": [
        "print(id(p))\n",
        "print(id(q))"
      ],
      "metadata": {
        "colab": {
          "base_uri": "https://localhost:8080/"
        },
        "id": "TK9AX2uxbbAG",
        "outputId": "865bafee-6df9-4b0d-cfca-7742aeb8672f"
      },
      "execution_count": null,
      "outputs": [
        {
          "output_type": "stream",
          "name": "stdout",
          "text": [
            "134063063320368\n",
            "134063063320368\n"
          ]
        }
      ]
    },
    {
      "cell_type": "code",
      "source": [
        "print(p.name)\n",
        "print(q.name)"
      ],
      "metadata": {
        "colab": {
          "base_uri": "https://localhost:8080/"
        },
        "id": "utAtuZYxbd5R",
        "outputId": "01305e39-c486-449b-bbbd-3f6a8aea651b"
      },
      "execution_count": null,
      "outputs": [
        {
          "output_type": "stream",
          "name": "stdout",
          "text": [
            "preetam\n",
            "preetam\n"
          ]
        }
      ]
    },
    {
      "cell_type": "code",
      "source": [
        "q.name = \"jack\""
      ],
      "metadata": {
        "id": "rTUQJUTibqu8"
      },
      "execution_count": null,
      "outputs": []
    },
    {
      "cell_type": "code",
      "source": [
        "print(p.name)\n",
        "print(q.name)"
      ],
      "metadata": {
        "colab": {
          "base_uri": "https://localhost:8080/"
        },
        "id": "ZXkZ9XnucY-E",
        "outputId": "ebe0d298-cac7-4152-fc5a-02bec82d8bb5"
      },
      "execution_count": null,
      "outputs": [
        {
          "output_type": "stream",
          "name": "stdout",
          "text": [
            "jack\n",
            "jack\n"
          ]
        }
      ]
    },
    {
      "cell_type": "markdown",
      "source": [
        "# Pass by reference"
      ],
      "metadata": {
        "id": "a0ZyY8Fcdpp7"
      }
    },
    {
      "cell_type": "code",
      "source": [
        "class Person:\n",
        "\n",
        "  def __init__(self, name, gender):\n",
        "    self.name = name\n",
        "    self.gender = gender\n",
        "\n",
        "# function outside the class\n",
        "\n",
        "def greet(person):\n",
        "  print(\"My name is\" , person.name , \" and I am \", person.gender)\n",
        "\n",
        "p = Person(\"preetam\", \"male\")\n",
        "greet(p)"
      ],
      "metadata": {
        "colab": {
          "base_uri": "https://localhost:8080/"
        },
        "id": "j28jHj9icag3",
        "outputId": "4348020b-f777-4140-fb13-a3caea8b4587"
      },
      "execution_count": null,
      "outputs": [
        {
          "output_type": "stream",
          "name": "stdout",
          "text": [
            "My name is preetam  and I am  male\n"
          ]
        }
      ]
    },
    {
      "cell_type": "code",
      "source": [
        "class Person:\n",
        "\n",
        "  def __init__(self, name, gender):\n",
        "    self.name = name\n",
        "    self.gender = gender\n",
        "\n",
        "# function outside the class\n",
        "\n",
        "def greet(person):\n",
        "  print(\"My name is\" , person.name , \" and I am \", person.gender)\n",
        "  p1 = Person(\"ankita\", \"female\")\n",
        "  return p1\n",
        "\n",
        "p = Person(\"preetam\", \"male\")\n",
        "x = greet(p)\n",
        "print(x.name)\n",
        "print(x.gender)"
      ],
      "metadata": {
        "colab": {
          "base_uri": "https://localhost:8080/"
        },
        "id": "lRpEDrF7ff0Z",
        "outputId": "aeca77cd-71a4-44b8-ba9a-3f17a6c8edf2"
      },
      "execution_count": null,
      "outputs": [
        {
          "output_type": "stream",
          "name": "stdout",
          "text": [
            "My name is preetam  and I am  male\n",
            "ankita\n",
            "female\n"
          ]
        }
      ]
    },
    {
      "cell_type": "code",
      "source": [
        "class Person:\n",
        "\n",
        "  def __init__(self, name, gender):\n",
        "    self.name = name\n",
        "    self.gender = gender\n",
        "\n",
        "# function outside the class\n",
        "\n",
        "def greet(person):\n",
        "  print(id(person))\n",
        "  print(\"My name is\" , person.name , \" and I am \", person.gender)\n",
        "\n",
        "p = Person(\"preetam\", \"male\")\n",
        "print(id(p))\n",
        "greet(p)\n"
      ],
      "metadata": {
        "colab": {
          "base_uri": "https://localhost:8080/"
        },
        "id": "WU-Pk7W1gHkL",
        "outputId": "3301e8f3-a3b0-42f6-8619-e3bfa85125bb"
      },
      "execution_count": null,
      "outputs": [
        {
          "output_type": "stream",
          "name": "stdout",
          "text": [
            "134063061191696\n",
            "134063061191696\n",
            "My name is preetam  and I am  male\n"
          ]
        }
      ]
    },
    {
      "cell_type": "code",
      "source": [
        "class Person:\n",
        "\n",
        "  def __init__(self, name, gender):\n",
        "    self.name = name\n",
        "    self.gender = gender\n",
        "\n",
        "# function outside the class\n",
        "\n",
        "def greet(person):\n",
        "  print(id(person))\n",
        "  person.name = \"ankit\"\n",
        "  print(person.name)\n",
        "\n",
        "p = Person(\"preetam\", \"male\")\n",
        "print(id(p))\n",
        "greet(p)\n",
        "print(p.name)"
      ],
      "metadata": {
        "colab": {
          "base_uri": "https://localhost:8080/"
        },
        "id": "tV1PPmGCg7Vy",
        "outputId": "083821e9-95a9-44f5-bd56-011570cc444d"
      },
      "execution_count": null,
      "outputs": [
        {
          "output_type": "stream",
          "name": "stdout",
          "text": [
            "134063061190832\n",
            "134063061190832\n",
            "ankit\n",
            "ankit\n"
          ]
        }
      ]
    },
    {
      "cell_type": "code",
      "source": [
        "class Person:\n",
        "\n",
        "  def __init__(self, name, gender):\n",
        "    self.name = name\n",
        "    self.gender = gender\n",
        "\n",
        "# function outside the class\n",
        "\n",
        "def greet(person):\n",
        "  print(id(person))\n",
        "  person.name = \"ankit\"\n",
        "  return person\n",
        "\n",
        "p = Person(\"preetam\", \"male\")\n",
        "print(id(p))\n",
        "p1 = greet(p)\n",
        "print(id(p1))"
      ],
      "metadata": {
        "colab": {
          "base_uri": "https://localhost:8080/"
        },
        "id": "g-f4T6jMieIr",
        "outputId": "b5a487df-df49-4003-9eab-1d168d34f177"
      },
      "execution_count": null,
      "outputs": [
        {
          "output_type": "stream",
          "name": "stdout",
          "text": [
            "134063063320080\n",
            "134063063320080\n",
            "134063063320080\n"
          ]
        }
      ]
    },
    {
      "cell_type": "markdown",
      "source": [
        "# Collection of Objects"
      ],
      "metadata": {
        "id": "R4OwVHMiCGDv"
      }
    },
    {
      "cell_type": "code",
      "source": [
        "class Person:\n",
        "  def __init__(self,name , gender):\n",
        "    self.name = name\n",
        "    self.gender = gender\n",
        "\n",
        "p1 = Person(\"a\",\"b\")\n",
        "p2 = Person(\"c\",\"d\")\n",
        "p3 = Person(\"e\",\"f\")\n",
        "\n",
        "l = [p1,p2,p3]\n",
        "print(l)\n",
        "\n",
        "for i in l:\n",
        "  print(i.name, i.gender)"
      ],
      "metadata": {
        "colab": {
          "base_uri": "https://localhost:8080/"
        },
        "id": "-IUFi6QBFBCN",
        "outputId": "1d8e8e8a-bce4-457e-f09a-bb793dc9b742"
      },
      "execution_count": null,
      "outputs": [
        {
          "output_type": "stream",
          "name": "stdout",
          "text": [
            "[<__main__.Person object at 0x7d0f7d255840>, <__main__.Person object at 0x7d0f7d257940>, <__main__.Person object at 0x7d0f7d257c40>]\n",
            "a b\n",
            "c d\n",
            "e f\n"
          ]
        }
      ]
    },
    {
      "cell_type": "code",
      "source": [
        "class Person:\n",
        "  def __init__(self,name , gender):\n",
        "    self.name = name\n",
        "    self.gender = gender\n",
        "\n",
        "p1 = Person(\"a\",\"b\")\n",
        "p2 = Person(\"c\",\"d\")\n",
        "p3 = Person(\"e\",\"f\")\n",
        "\n",
        "d = {\"p1_key\":p1,\"p2_key\":p2,\"p3_key\":p3}\n",
        "print(d)\n",
        "\n",
        "for i in d:\n",
        "  print(i,d[i], d[i].name)"
      ],
      "metadata": {
        "colab": {
          "base_uri": "https://localhost:8080/"
        },
        "id": "vNMhHJuZGUy7",
        "outputId": "30ebc714-8c27-4101-b6f4-caaf1c18a893"
      },
      "execution_count": null,
      "outputs": [
        {
          "output_type": "stream",
          "name": "stdout",
          "text": [
            "{'p1_key': <__main__.Person object at 0x7d0f7d256800>, 'p2_key': <__main__.Person object at 0x7d0f7d2549a0>, 'p3_key': <__main__.Person object at 0x7d0f7d2569b0>}\n",
            "p1_key <__main__.Person object at 0x7d0f7d256800> a\n",
            "p2_key <__main__.Person object at 0x7d0f7d2549a0> c\n",
            "p3_key <__main__.Person object at 0x7d0f7d2569b0> e\n"
          ]
        }
      ]
    },
    {
      "cell_type": "markdown",
      "source": [
        "# Static method"
      ],
      "metadata": {
        "id": "DgEZfzZqKHPA"
      }
    },
    {
      "cell_type": "code",
      "source": [
        "class Person:\n",
        "    def __init__(self, name, age):\n",
        "        self.name = name  # Instance variable for name\n",
        "        self.age = age    # Instance variable for age\n",
        "\n",
        "person1 = Person(\"Alice\", 30)\n",
        "person2 = Person(\"Bob\", 25)\n",
        "\n",
        "print(person1.name)  # Output: Alice\n",
        "print(person2.age)"
      ],
      "metadata": {
        "id": "7R06TZFGKJpY"
      },
      "execution_count": null,
      "outputs": []
    },
    {
      "cell_type": "code",
      "source": [
        "class Person:\n",
        "    species = \"Homo Sapiens\"  # Static variable (class variable)\n",
        "\n",
        "person1 = Person(\"Alice\", 30)\n",
        "person2 = Person(\"Bob\", 25)\n",
        "\n",
        "print(Person.species)  # Output: Homo Sapiens\n",
        "person1.species = \"Unknown\"  # Changes the value for all objects\n",
        "print(Person.species)  # Output: Unknown\n",
        "print(person2.species)"
      ],
      "metadata": {
        "id": "qbxZQJ_8KKs7"
      },
      "execution_count": null,
      "outputs": []
    },
    {
      "cell_type": "code",
      "source": [
        "# instance variable\n",
        "\n",
        "class Person:\n",
        "  def __init__(self,name,age):\n",
        "    self.name =  name\n",
        "    self.age = age\n",
        "\n",
        "p1 = Person(\"pree\",34)\n",
        "p2 = Person(\"john\", 39)\n",
        "\n",
        "print(p1.name)\n"
      ],
      "metadata": {
        "colab": {
          "base_uri": "https://localhost:8080/"
        },
        "id": "NyPv16zlKKwQ",
        "outputId": "39353bf0-72af-422d-a908-2dbe60d08abf"
      },
      "execution_count": null,
      "outputs": [
        {
          "output_type": "stream",
          "name": "stdout",
          "text": [
            "pree\n"
          ]
        }
      ]
    },
    {
      "cell_type": "code",
      "source": [
        "# static variable\n",
        "\n",
        "class Person:\n",
        "  species = \"Homo Sapiens\"\n",
        "\n",
        "  def __init__(self,name,age):\n",
        "    self.name =  name\n",
        "    self.age = age\n",
        "\n",
        "p1 = Person(\"pree\",34)\n",
        "\n",
        "print(p1.name)\n",
        "print(Person.species)"
      ],
      "metadata": {
        "colab": {
          "base_uri": "https://localhost:8080/"
        },
        "id": "TfCXg6B-KK2L",
        "outputId": "bdab61f0-1a52-4c0b-bcd4-215756d6cb39"
      },
      "execution_count": null,
      "outputs": [
        {
          "output_type": "stream",
          "name": "stdout",
          "text": [
            "pree\n",
            "Homo Sapiens\n"
          ]
        }
      ]
    },
    {
      "cell_type": "code",
      "source": [
        "import this"
      ],
      "metadata": {
        "colab": {
          "base_uri": "https://localhost:8080/"
        },
        "id": "V-CBhUtcjRFa",
        "outputId": "a11fee2b-bab8-4426-b0a3-97e396247ed7"
      },
      "execution_count": null,
      "outputs": [
        {
          "output_type": "stream",
          "name": "stdout",
          "text": [
            "The Zen of Python, by Tim Peters\n",
            "\n",
            "Beautiful is better than ugly.\n",
            "Explicit is better than implicit.\n",
            "Simple is better than complex.\n",
            "Complex is better than complicated.\n",
            "Flat is better than nested.\n",
            "Sparse is better than dense.\n",
            "Readability counts.\n",
            "Special cases aren't special enough to break the rules.\n",
            "Although practicality beats purity.\n",
            "Errors should never pass silently.\n",
            "Unless explicitly silenced.\n",
            "In the face of ambiguity, refuse the temptation to guess.\n",
            "There should be one-- and preferably only one --obvious way to do it.\n",
            "Although that way may not be obvious at first unless you're Dutch.\n",
            "Now is better than never.\n",
            "Although never is often better than *right* now.\n",
            "If the implementation is hard to explain, it's a bad idea.\n",
            "If the implementation is easy to explain, it may be a good idea.\n",
            "Namespaces are one honking great idea -- let's do more of those!\n"
          ]
        }
      ]
    },
    {
      "cell_type": "markdown",
      "source": [
        "# Aggregation - means \"has a relationship\", or a class is an owner of another  class"
      ],
      "metadata": {
        "id": "iSLoU9ShG9-H"
      }
    },
    {
      "cell_type": "code",
      "source": [
        "class Customer:\n",
        "  def __init__(self, name, age, address):\n",
        "    self.name = name\n",
        "    self.age = age\n",
        "    self.address = address\n",
        "\n",
        "  def show_address(self):\n",
        "    print(self.address.city, self.address.pin, self.address.state)\n",
        "\n",
        "class Address:\n",
        "  def __init__(self, city, pin, state):\n",
        "    self.city = city\n",
        "    self.pin = pin\n",
        "    self.state = state\n",
        "\n",
        "a1 = Address(\"kol\",100,\"wb\")\n",
        "c1 = Customer(\"pree\",34,a1)\n",
        "\n",
        "c1.show_address()"
      ],
      "metadata": {
        "id": "EbJIQS4ACmm_",
        "colab": {
          "base_uri": "https://localhost:8080/"
        },
        "outputId": "6e4fcd83-a81e-4308-804c-cb4ab986b58b"
      },
      "execution_count": null,
      "outputs": [
        {
          "output_type": "stream",
          "name": "stdout",
          "text": [
            "kol 100 wb\n"
          ]
        }
      ]
    },
    {
      "cell_type": "code",
      "source": [
        "class Customer:\n",
        "  def __init__(self, name, age, address):\n",
        "    self.name = name\n",
        "    self.age = age\n",
        "    self.address = address\n",
        "\n",
        "  def show_address(self):\n",
        "    print(self.address.city, self.address.pin, self.address.state)\n",
        "\n",
        "class Address:\n",
        "  def __init__(self, city, pin, state):\n",
        "    self.city = city\n",
        "    self.pin = pin\n",
        "    self.state = state\n",
        "\n",
        "a1 = Address(\"kol\",100,\"wb\")\n",
        "c1 = Customer(\"pree\",34,a1)\n",
        "\n",
        "c1.show_address()"
      ],
      "metadata": {
        "colab": {
          "base_uri": "https://localhost:8080/"
        },
        "id": "RCkVU9W4IMm3",
        "outputId": "5e5e7e7c-d583-47be-c759-2dab419075b7"
      },
      "execution_count": null,
      "outputs": [
        {
          "output_type": "stream",
          "name": "stdout",
          "text": [
            "kol 100 wb\n"
          ]
        }
      ]
    },
    {
      "cell_type": "code",
      "source": [
        "# cannot access private attributes during aggregation performance\n",
        "class Customer:\n",
        "  def __init__(self, name, age, address):\n",
        "    self.name = name\n",
        "    self.age = age\n",
        "    self.address = address\n",
        "\n",
        "  def show_address(self):\n",
        "    print(self.address.__city, self.address.pin, self.address.state)\n",
        "\n",
        "class Address:\n",
        "  def __init__(self, city, pin, state):\n",
        "    self.__city = city\n",
        "    self.pin = pin\n",
        "    self.state = state\n",
        "\n",
        "a1 = Address(\"kol\",100,\"wb\")\n",
        "c1 = Customer(\"pree\",34,a1)\n",
        "\n",
        "c1.show_address()"
      ],
      "metadata": {
        "colab": {
          "base_uri": "https://localhost:8080/",
          "height": 332
        },
        "id": "JpFXT2ZAJcU9",
        "outputId": "522d4c1f-4bbd-4c6a-b42d-1c7be30e4384"
      },
      "execution_count": null,
      "outputs": [
        {
          "output_type": "error",
          "ename": "AttributeError",
          "evalue": "ignored",
          "traceback": [
            "\u001b[0;31m---------------------------------------------------------------------------\u001b[0m",
            "\u001b[0;31mAttributeError\u001b[0m                            Traceback (most recent call last)",
            "\u001b[0;32m<ipython-input-13-fc735f2deb75>\u001b[0m in \u001b[0;36m<cell line: 20>\u001b[0;34m()\u001b[0m\n\u001b[1;32m     18\u001b[0m \u001b[0mc1\u001b[0m \u001b[0;34m=\u001b[0m \u001b[0mCustomer\u001b[0m\u001b[0;34m(\u001b[0m\u001b[0;34m\"pree\"\u001b[0m\u001b[0;34m,\u001b[0m\u001b[0;36m34\u001b[0m\u001b[0;34m,\u001b[0m\u001b[0ma1\u001b[0m\u001b[0;34m)\u001b[0m\u001b[0;34m\u001b[0m\u001b[0;34m\u001b[0m\u001b[0m\n\u001b[1;32m     19\u001b[0m \u001b[0;34m\u001b[0m\u001b[0m\n\u001b[0;32m---> 20\u001b[0;31m \u001b[0mc1\u001b[0m\u001b[0;34m.\u001b[0m\u001b[0mshow_address\u001b[0m\u001b[0;34m(\u001b[0m\u001b[0;34m)\u001b[0m\u001b[0;34m\u001b[0m\u001b[0;34m\u001b[0m\u001b[0m\n\u001b[0m",
            "\u001b[0;32m<ipython-input-13-fc735f2deb75>\u001b[0m in \u001b[0;36mshow_address\u001b[0;34m(self)\u001b[0m\n\u001b[1;32m      7\u001b[0m \u001b[0;34m\u001b[0m\u001b[0m\n\u001b[1;32m      8\u001b[0m   \u001b[0;32mdef\u001b[0m \u001b[0mshow_address\u001b[0m\u001b[0;34m(\u001b[0m\u001b[0mself\u001b[0m\u001b[0;34m)\u001b[0m\u001b[0;34m:\u001b[0m\u001b[0;34m\u001b[0m\u001b[0;34m\u001b[0m\u001b[0m\n\u001b[0;32m----> 9\u001b[0;31m     \u001b[0mprint\u001b[0m\u001b[0;34m(\u001b[0m\u001b[0mself\u001b[0m\u001b[0;34m.\u001b[0m\u001b[0maddress\u001b[0m\u001b[0;34m.\u001b[0m\u001b[0m__city\u001b[0m\u001b[0;34m,\u001b[0m \u001b[0mself\u001b[0m\u001b[0;34m.\u001b[0m\u001b[0maddress\u001b[0m\u001b[0;34m.\u001b[0m\u001b[0mpin\u001b[0m\u001b[0;34m,\u001b[0m \u001b[0mself\u001b[0m\u001b[0;34m.\u001b[0m\u001b[0maddress\u001b[0m\u001b[0;34m.\u001b[0m\u001b[0mstate\u001b[0m\u001b[0;34m)\u001b[0m\u001b[0;34m\u001b[0m\u001b[0;34m\u001b[0m\u001b[0m\n\u001b[0m\u001b[1;32m     10\u001b[0m \u001b[0;34m\u001b[0m\u001b[0m\n\u001b[1;32m     11\u001b[0m \u001b[0;32mclass\u001b[0m \u001b[0mAddress\u001b[0m\u001b[0;34m:\u001b[0m\u001b[0;34m\u001b[0m\u001b[0;34m\u001b[0m\u001b[0m\n",
            "\u001b[0;31mAttributeError\u001b[0m: 'Address' object has no attribute '_Customer__city'"
          ]
        }
      ]
    },
    {
      "cell_type": "code",
      "source": [
        "# cannot access private attributes during aggregation performance\n",
        "class Customer:\n",
        "  def __init__(self, name, age, address):\n",
        "    self.name = name\n",
        "    self.age = age\n",
        "    self.address = address\n",
        "\n",
        "  def show_address(self):\n",
        "    print(self.address.get_city(), self.address.pin, self.address.state)\n",
        "\n",
        "class Address:\n",
        "  def __init__(self, city, pin, state):\n",
        "    self.__city = city\n",
        "    self.pin = pin\n",
        "    self.state = state\n",
        "\n",
        "  def get_city(self):\n",
        "    return self.__city\n",
        "\n",
        "a1 = Address(\"kol\",100,\"wb\")\n",
        "c1 = Customer(\"pree\",34,a1)\n",
        "\n",
        "c1.show_address()"
      ],
      "metadata": {
        "colab": {
          "base_uri": "https://localhost:8080/"
        },
        "id": "9Qx3hSjrJp9X",
        "outputId": "ac5fc7af-bf99-4767-ea83-1658ebb10019"
      },
      "execution_count": null,
      "outputs": [
        {
          "output_type": "stream",
          "name": "stdout",
          "text": [
            "kol 100 wb\n"
          ]
        }
      ]
    },
    {
      "cell_type": "code",
      "source": [
        "class Customer:\n",
        "  def __init__(self, name, age, address):\n",
        "    self.name = name\n",
        "    self.age = age\n",
        "    self.address = address\n",
        "\n",
        "  def show_address(self):\n",
        "    print(self.address.get_city(), self.address.pin, self.address.state)\n",
        "\n",
        "  def edit_profile(self,new_name,new_city,new_pin,new_state):\n",
        "    self.name = new_name\n",
        "    self.address.edit_address(new_city,new_pin,new_state)\n",
        "\n",
        "class Address:\n",
        "  def __init__(self, city, pin, state):\n",
        "    self.__city = city\n",
        "    self.pin = pin\n",
        "    self.state = state\n",
        "\n",
        "  def get_city(self):\n",
        "    return self.__city\n",
        "\n",
        "  def edit_address(self,new_city,new_pin,new_state):\n",
        "    self.__city = new_city\n",
        "    self.pin = new_pin\n",
        "    self.state = new_state\n",
        "\n",
        "a1 = Address(\"kol\",100,\"wb\")\n",
        "c1 = Customer(\"pree\",34,a1)\n",
        "\n",
        "c1.show_address()\n",
        "\n",
        "c1.edit_profile(\"anki\",\"mum\",500,\"mh\")\n",
        "c1.show_address()"
      ],
      "metadata": {
        "colab": {
          "base_uri": "https://localhost:8080/"
        },
        "id": "iGBP1UwEKYWA",
        "outputId": "afcb909f-9121-409f-ee26-8b96efa01f5b"
      },
      "execution_count": null,
      "outputs": [
        {
          "output_type": "stream",
          "name": "stdout",
          "text": [
            "kol 100 wb\n",
            "mum 500 mh\n"
          ]
        }
      ]
    },
    {
      "cell_type": "code",
      "source": [
        "class Customer:\n",
        "  def __init__(self, name, age, address):\n",
        "    self.name = name\n",
        "    self.age = age\n",
        "    self.address = address\n",
        "\n",
        "  def show_address(self):\n",
        "    print(self.address.get_city(), self.address.pin, self.address.state)\n",
        "\n",
        "  def edit_profile(self,new_name,new_city,new_pin,new_state):\n",
        "    self.name = new_name\n",
        "    self.address.edit_address(new_city,new_pin,new_state)\n",
        "\n",
        "class Address:\n",
        "  def __init__(self, city, pin, state):\n",
        "    self.__city = city\n",
        "    self.pin = pin\n",
        "    self.state = state\n",
        "\n",
        "  def get_city(self):\n",
        "    return self.__city\n",
        "\n",
        "  def edit_address(self,new_city,new_pin,new_state):\n",
        "    self.__city = new_city\n",
        "    self.pin = new_pin\n",
        "    self.state = new_state\n",
        "\n",
        "a1 = Address(\"kol\",100,\"wb\")\n",
        "c1 = Customer(\"pree\",34,a1)\n",
        "\n",
        "c1.show_address()\n",
        "\n",
        "c1.edit_profile(\"anki\",\"mum\",500,\"mh\")\n",
        "c1.show_address()"
      ],
      "metadata": {
        "id": "vASwFF02O4S0"
      },
      "execution_count": null,
      "outputs": []
    },
    {
      "cell_type": "markdown",
      "source": [
        "# Inheritence"
      ],
      "metadata": {
        "id": "zAkXSMgPSAeh"
      }
    },
    {
      "cell_type": "code",
      "source": [
        "class User:\n",
        "\n",
        "  def __init__(self):\n",
        "    self.name = \"preetam\"\n",
        "\n",
        "  def login(self):\n",
        "    print(\"login\")\n",
        "\n",
        "class Student(User):\n",
        "\n",
        "  def enroll(self):\n",
        "    print(\"enroll\")\n",
        "\n",
        "u = User()\n",
        "s = Student()\n",
        "\n",
        "s.name"
      ],
      "metadata": {
        "colab": {
          "base_uri": "https://localhost:8080/",
          "height": 35
        },
        "id": "i6qMDt-tSC_T",
        "outputId": "3f00272c-285c-4d95-d066-d048373edc33"
      },
      "execution_count": null,
      "outputs": [
        {
          "output_type": "execute_result",
          "data": {
            "text/plain": [
              "'preetam'"
            ],
            "application/vnd.google.colaboratory.intrinsic+json": {
              "type": "string"
            }
          },
          "metadata": {},
          "execution_count": 18
        }
      ]
    },
    {
      "cell_type": "markdown",
      "source": [
        "# Abstraction\n",
        "\n",
        "1. we cannot create object of an abstract class,\n",
        "2. it has atleast one abstract class"
      ],
      "metadata": {
        "id": "ocejgAwMGo11"
      }
    },
    {
      "cell_type": "code",
      "source": [
        "from abc import ABC, abstractmethod\n",
        "\n",
        "class Bank(ABC):\n",
        "  def databse(self):\n",
        "    print(\"connected to databse\")\n",
        "\n",
        "  @abstractmethod\n",
        "  def security(self):\n",
        "    pass\n",
        "\n",
        "\n",
        "class Mobile(Bank):\n",
        "  def login(self):\n",
        "    print(\"login\")\n",
        "\n",
        "  def security(self):\n",
        "    print(\"security\")\n",
        "\n",
        "m = Mobile()\n"
      ],
      "metadata": {
        "id": "5b2wLFYoWINn"
      },
      "execution_count": null,
      "outputs": []
    },
    {
      "cell_type": "code",
      "source": [
        "m.login()"
      ],
      "metadata": {
        "colab": {
          "base_uri": "https://localhost:8080/"
        },
        "id": "_4TGAdXnIS-c",
        "outputId": "4b40c709-fb4c-474b-9e7e-d27a8bad5599"
      },
      "execution_count": null,
      "outputs": [
        {
          "output_type": "stream",
          "name": "stdout",
          "text": [
            "login\n"
          ]
        }
      ]
    },
    {
      "cell_type": "markdown",
      "source": [
        "### args, kwargs"
      ],
      "metadata": {
        "id": "oQfILbIBR44k"
      }
    },
    {
      "cell_type": "code",
      "source": [
        "def myfunction(n, *argspree, **kwargspree):\n",
        "  print(n)\n",
        "  for i in argspree:\n",
        "    print(i)\n",
        "  for k,v in kwargspree.items():\n",
        "    print(f\"{k} is {v}\")\n",
        "\n",
        "normal = \"normal line\"\n",
        "stud = [\"preet\", \"anki\"]\n",
        "job = {\"preet\":\"ds\", \"anki\": \"wd\"}\n",
        "\n",
        "myfunction(normal, stud, job)"
      ],
      "metadata": {
        "colab": {
          "base_uri": "https://localhost:8080/"
        },
        "id": "Pz3WYceVKJMS",
        "outputId": "d07c3ebd-a91b-4f9a-f1da-0f9ae18ad7f4"
      },
      "execution_count": null,
      "outputs": [
        {
          "output_type": "stream",
          "name": "stdout",
          "text": [
            "normal line\n",
            "['preet', 'anki']\n",
            "{'preet': 'ds', 'anki': 'wd'}\n"
          ]
        }
      ]
    },
    {
      "cell_type": "code",
      "source": [
        "def myfunction(n, *argspree, **kwargspree):\n",
        "  print(n)\n",
        "  for i in argspree:\n",
        "    print(i)\n",
        "  for k,v in kwargspree.items():\n",
        "    print(f\"{k} is {v}\")\n",
        "\n",
        "normal = \"normal line\"\n",
        "stud = [\"preet\", \"anki\"]\n",
        "job = {\"preet\":\"ds\", \"anki\": \"wd\"}\n",
        "\n",
        "myfunction(normal, *stud, **job)"
      ],
      "metadata": {
        "colab": {
          "base_uri": "https://localhost:8080/"
        },
        "id": "4m1Sx74FTAlK",
        "outputId": "289e8c34-9588-4182-91b2-2e5cc1f268c0"
      },
      "execution_count": null,
      "outputs": [
        {
          "output_type": "stream",
          "name": "stdout",
          "text": [
            "normal line\n",
            "preet\n",
            "anki\n",
            "preet is ds\n",
            "anki is wd\n"
          ]
        }
      ]
    },
    {
      "cell_type": "markdown",
      "source": [
        "### Static method"
      ],
      "metadata": {
        "id": "IXS0POZSW1T-"
      }
    },
    {
      "cell_type": "code",
      "source": [
        "class Science:\n",
        "  def __init__(self,num):\n",
        "    self.num = num\n",
        "\n",
        "  def add_to_num(self,num):\n",
        "    self.num += num\n",
        "\n",
        "  @staticmethod\n",
        "  def add(a,b):\n",
        "    return (a+b)\n",
        "\n",
        "s = Science(5)\n",
        "print(s.num)\n",
        "s.add_to_num(10)\n",
        "print(s.num)\n",
        "\n",
        "print(s.add(15,60))\n",
        "print(Science.add(15,60))\n",
        "\n"
      ],
      "metadata": {
        "colab": {
          "base_uri": "https://localhost:8080/"
        },
        "id": "waQhsExzTFcR",
        "outputId": "4eaa0a6c-332a-4b0a-9fa4-66ad357bec82"
      },
      "execution_count": null,
      "outputs": [
        {
          "output_type": "stream",
          "name": "stdout",
          "text": [
            "5\n",
            "15\n",
            "75\n",
            "75\n"
          ]
        }
      ]
    },
    {
      "cell_type": "markdown",
      "source": [
        "# File handling"
      ],
      "metadata": {
        "id": "BIZWA17Tfkqq"
      }
    },
    {
      "cell_type": "code",
      "source": [
        "f = open(\"sample.txt\",\"w\")\n",
        "f.write(\"Hello world\")\n",
        "f.close()"
      ],
      "metadata": {
        "id": "OYtjYGEmZBRV"
      },
      "execution_count": null,
      "outputs": []
    },
    {
      "cell_type": "code",
      "source": [
        "f = open(\"sample1.txt\",\"w\")\n",
        "f.write(\"hello world\")\n",
        "f.write(\"\\nthis is a crazy world\")\n",
        "f.close()"
      ],
      "metadata": {
        "id": "d91OjyvBfs26"
      },
      "execution_count": null,
      "outputs": []
    },
    {
      "cell_type": "code",
      "source": [
        "f = open(\"sample.txt\",\"w\")\n",
        "f.write(\"salman\")\n",
        "f.close()"
      ],
      "metadata": {
        "id": "5fRBnYgXhMvM"
      },
      "execution_count": null,
      "outputs": []
    },
    {
      "cell_type": "code",
      "source": [
        "f = open(\"sample1.txt\",\"a\")\n",
        "f.write(\"\\nI am fine\")\n",
        "f.close()"
      ],
      "metadata": {
        "id": "KlNsIKrxhfIV"
      },
      "execution_count": null,
      "outputs": []
    },
    {
      "cell_type": "code",
      "source": [
        "L = [\"hi\\n\", \"hello\\n\", \"how\\n\", \"hey\"]\n",
        "\n",
        "f = open(\"sample.txt\", \"w\")\n",
        "f.writelines(L)\n",
        "f.close()"
      ],
      "metadata": {
        "id": "4PNGG9c8ip72"
      },
      "execution_count": null,
      "outputs": []
    },
    {
      "cell_type": "code",
      "source": [
        "f = open(\"sample.txt\", \"r\")\n",
        "r = f.read()\n",
        "print(r)\n",
        "f.close()"
      ],
      "metadata": {
        "colab": {
          "base_uri": "https://localhost:8080/"
        },
        "id": "NdDprmvmj9cK",
        "outputId": "ce4e7732-ab40-4d42-fff1-8f8dfa207f0c"
      },
      "execution_count": null,
      "outputs": [
        {
          "output_type": "stream",
          "name": "stdout",
          "text": [
            "hi\n",
            "hello\n",
            "how\n",
            "hey\n"
          ]
        }
      ]
    },
    {
      "cell_type": "code",
      "source": [
        "f = open(\"sample.txt\", \"r\")\n",
        "r = f.read(10)\n",
        "print(r)\n",
        "f.close()"
      ],
      "metadata": {
        "colab": {
          "base_uri": "https://localhost:8080/"
        },
        "id": "Ogr_Du_LmpT3",
        "outputId": "fb52a979-d3cb-4cf2-b0cf-29de364851a3"
      },
      "execution_count": null,
      "outputs": [
        {
          "output_type": "stream",
          "name": "stdout",
          "text": [
            "hi\n",
            "hello\n",
            "h\n"
          ]
        }
      ]
    },
    {
      "cell_type": "code",
      "source": [
        "f = open(\"sample.txt\", \"r\")\n",
        "print(f.readline())\n",
        "print(f.readline())\n",
        "f.close()"
      ],
      "metadata": {
        "colab": {
          "base_uri": "https://localhost:8080/"
        },
        "id": "RuDADImnoI3b",
        "outputId": "ad515e6d-1bf6-4e9d-928b-aaa564800014"
      },
      "execution_count": null,
      "outputs": [
        {
          "output_type": "stream",
          "name": "stdout",
          "text": [
            "hi\n",
            "\n",
            "hello\n",
            "\n"
          ]
        }
      ]
    },
    {
      "cell_type": "code",
      "source": [
        "f = open(\"sample.txt\", \"r\")\n",
        "print(f.readline(),end = \"\")\n",
        "print(f.readline(), end = \"\")\n",
        "f.close()"
      ],
      "metadata": {
        "colab": {
          "base_uri": "https://localhost:8080/"
        },
        "id": "hrl2PlboogGL",
        "outputId": "941c0ebd-c937-4848-8d38-33a89f180ba4"
      },
      "execution_count": null,
      "outputs": [
        {
          "output_type": "stream",
          "name": "stdout",
          "text": [
            "hi\n",
            "hello\n"
          ]
        }
      ]
    },
    {
      "cell_type": "code",
      "source": [
        "f = open(\"sample.txt\", \"r\")\n",
        "\n",
        "while True:\n",
        "  data = f.readline()\n",
        "  if data == \"\":\n",
        "    break\n",
        "  else:\n",
        "    print(data,end = \"\")"
      ],
      "metadata": {
        "colab": {
          "base_uri": "https://localhost:8080/"
        },
        "id": "oB4Jk-yVppkU",
        "outputId": "128086b7-b4d8-4a96-ad12-1dd5e977c548"
      },
      "execution_count": null,
      "outputs": [
        {
          "output_type": "stream",
          "name": "stdout",
          "text": [
            "hi\n",
            "hello\n",
            "how\n",
            "hey"
          ]
        }
      ]
    },
    {
      "cell_type": "code",
      "source": [
        "for i in range(1,10):\n",
        "  if i % 3 == 0 :\n",
        "    print(\"break wala\")\n",
        "    break\n",
        "else:\n",
        "  print(\"else wala\")"
      ],
      "metadata": {
        "colab": {
          "base_uri": "https://localhost:8080/"
        },
        "id": "r7H9d8NkshYl",
        "outputId": "9742a8a3-1b09-4f1f-c1b0-a2205feee521"
      },
      "execution_count": null,
      "outputs": [
        {
          "output_type": "stream",
          "name": "stdout",
          "text": [
            "break wala\n"
          ]
        }
      ]
    },
    {
      "cell_type": "code",
      "source": [
        "for i in range(1,10):\n",
        "  if i % 3 != 0 :\n",
        "    print(\"break wala\")\n",
        "    break\n",
        "else:\n",
        "  print(\"else wala\")"
      ],
      "metadata": {
        "colab": {
          "base_uri": "https://localhost:8080/"
        },
        "id": "eHs7z6BfsrmS",
        "outputId": "03ec1ef0-1486-4cd0-dc75-257b38c1a9fe"
      },
      "execution_count": null,
      "outputs": [
        {
          "output_type": "stream",
          "name": "stdout",
          "text": [
            "break wala\n"
          ]
        }
      ]
    },
    {
      "cell_type": "code",
      "source": [
        "for i in range(1,10):\n",
        "  if i % 3 == 0 :\n",
        "    print(\"break wala\")\n",
        "    break\n",
        "  else:\n",
        "    print(\"else wala\")"
      ],
      "metadata": {
        "colab": {
          "base_uri": "https://localhost:8080/"
        },
        "id": "twXyT4ivs8LG",
        "outputId": "88f57fb9-3aa8-44b0-a54c-bb5eb4cd6ad0"
      },
      "execution_count": null,
      "outputs": [
        {
          "output_type": "stream",
          "name": "stdout",
          "text": [
            "else wala\n",
            "else wala\n",
            "break wala\n"
          ]
        }
      ]
    },
    {
      "cell_type": "code",
      "source": [
        "for i in range(1,10):\n",
        "  if i >11  :\n",
        "    print(\"break wala\")\n",
        "    break\n",
        "else:\n",
        "  print(\"else wala\")"
      ],
      "metadata": {
        "colab": {
          "base_uri": "https://localhost:8080/"
        },
        "id": "gXT9PBd-tD2y",
        "outputId": "c0c22f36-ac69-4c8b-ca1c-c9078a8a30ef"
      },
      "execution_count": null,
      "outputs": [
        {
          "output_type": "stream",
          "name": "stdout",
          "text": [
            "else wala\n"
          ]
        }
      ]
    },
    {
      "cell_type": "code",
      "source": [
        "big_L = [\"hello world\" for _ in range(1000)]\n",
        "\n",
        "with open(\"big.txt\", \"w\") as f:\n",
        "  f.writelines(big_L)"
      ],
      "metadata": {
        "id": "4MrR2LHRtqdX"
      },
      "execution_count": null,
      "outputs": []
    },
    {
      "cell_type": "code",
      "source": [
        "with open(\"big.txt\" , \"r\") as f:\n",
        "  chunk_size = 10\n",
        "  while len(f.read(chunk_size))>0:\n",
        "    print(f.read(chunk_size), end = \"***\")\n",
        "    f.read(chunk_size)"
      ],
      "metadata": {
        "colab": {
          "base_uri": "https://localhost:8080/"
        },
        "id": "FBdeowHMKOIQ",
        "outputId": "28c71afa-2b6a-465a-ba92-8ffa1ed7c8ef"
      },
      "execution_count": null,
      "outputs": [
        {
          "output_type": "stream",
          "name": "stdout",
          "text": [
            "dhello wor***orldhello ***o worldhel***ello world***ldhello wo***worldhello***lo worldhe***hello worl***rldhello w*** worldhell***llo worldh***dhello wor***orldhello ***o worldhel***ello world***ldhello wo***worldhello***lo worldhe***hello worl***rldhello w*** worldhell***llo worldh***dhello wor***orldhello ***o worldhel***ello world***ldhello wo***worldhello***lo worldhe***hello worl***rldhello w*** worldhell***llo worldh***dhello wor***orldhello ***o worldhel***ello world***ldhello wo***worldhello***lo worldhe***hello worl***rldhello w*** worldhell***llo worldh***dhello wor***orldhello ***o worldhel***ello world***ldhello wo***worldhello***lo worldhe***hello worl***rldhello w*** worldhell***llo worldh***dhello wor***orldhello ***o worldhel***ello world***ldhello wo***worldhello***lo worldhe***hello worl***rldhello w*** worldhell***llo worldh***dhello wor***orldhello ***o worldhel***ello world***ldhello wo***worldhello***lo worldhe***hello worl***rldhello w*** worldhell***llo worldh***dhello wor***orldhello ***o worldhel***ello world***ldhello wo***worldhello***lo worldhe***hello worl***rldhello w*** worldhell***llo worldh***dhello wor***orldhello ***o worldhel***ello world***ldhello wo***worldhello***lo worldhe***hello worl***rldhello w*** worldhell***llo worldh***dhello wor***orldhello ***o worldhel***ello world***ldhello wo***worldhello***lo worldhe***hello worl***rldhello w*** worldhell***llo worldh***dhello wor***orldhello ***o worldhel***ello world***ldhello wo***worldhello***lo worldhe***hello worl***rldhello w*** worldhell***llo worldh***dhello wor***orldhello ***o worldhel***ello world***ldhello wo***worldhello***lo worldhe***hello worl***rldhello w*** worldhell***llo worldh***dhello wor***orldhello ***o worldhel***ello world***ldhello wo***worldhello***lo worldhe***hello worl***rldhello w*** worldhell***llo worldh***dhello wor***orldhello ***o worldhel***ello world***ldhello wo***worldhello***lo worldhe***hello worl***rldhello w*** worldhell***llo worldh***dhello wor***orldhello ***o worldhel***ello world***ldhello wo***worldhello***lo worldhe***hello worl***rldhello w*** worldhell***llo worldh***dhello wor***orldhello ***o worldhel***ello world***ldhello wo***worldhello***lo worldhe***hello worl***rldhello w*** worldhell***llo worldh***dhello wor***orldhello ***o worldhel***ello world***ldhello wo***worldhello***lo worldhe***hello worl***rldhello w*** worldhell***llo worldh***dhello wor***orldhello ***o worldhel***ello world***ldhello wo***worldhello***lo worldhe***hello worl***rldhello w*** worldhell***llo worldh***dhello wor***orldhello ***o worldhel***ello world***ldhello wo***worldhello***lo worldhe***hello worl***rldhello w*** worldhell***llo worldh***dhello wor***orldhello ***o worldhel***ello world***ldhello wo***worldhello***lo worldhe***hello worl***rldhello w*** worldhell***llo worldh***dhello wor***orldhello ***o worldhel***ello world***ldhello wo***worldhello***lo worldhe***hello worl***rldhello w*** worldhell***llo worldh***dhello wor***orldhello ***o worldhel***ello world***ldhello wo***worldhello***lo worldhe***hello worl***rldhello w*** worldhell***llo worldh***dhello wor***orldhello ***o worldhel***ello world***ldhello wo***worldhello***lo worldhe***hello worl***rldhello w*** worldhell***llo worldh***dhello wor***orldhello ***o worldhel***ello world***ldhello wo***worldhello***lo worldhe***hello worl***rldhello w*** worldhell***llo worldh***dhello wor***orldhello ***o worldhel***ello world***ldhello wo***worldhello***lo worldhe***hello worl***rldhello w*** worldhell***llo worldh***dhello wor***orldhello ***o worldhel***ello world***ldhello wo***worldhello***lo worldhe***hello worl***rldhello w*** worldhell***llo worldh***dhello wor***orldhello ***o worldhel***ello world***ldhello wo***worldhello***lo worldhe***hello worl***rldhello w*** worldhell***llo worldh***dhello wor***orldhello ***o worldhel***ello world***ldhello wo***worldhello***lo worldhe***hello worl***rldhello w*** worldhell***llo worldh***dhello wor***orldhello ***o worldhel***ello world***ldhello wo***worldhello***lo worldhe***hello worl***rldhello w*** worldhell***llo worldh***dhello wor***orldhello ***o worldhel***ello world***ldhello wo***worldhello***lo worldhe***hello worl***rldhello w*** worldhell***llo worldh***dhello wor***orldhello ***o worldhel***ello world***ldhello wo***worldhello***lo worldhe***hello worl***rldhello w*** worldhell***llo worldh***dhello wor***orldhello ***o worldhel***ello world***ldhello wo***worldhello***lo worldhe***hello worl***rldhello w*** worldhell***llo worldh***dhello wor***orldhello ***o worldhel***ello world***ldhello wo***worldhello***lo worldhe***hello worl***rldhello w*** worldhell***llo worldh***dhello wor***orldhello ***o worldhel***ello world***"
          ]
        }
      ]
    },
    {
      "cell_type": "markdown",
      "source": [
        "# seek and tell"
      ],
      "metadata": {
        "id": "R1UbxATDMkY9"
      }
    },
    {
      "cell_type": "code",
      "source": [
        "with open(\"sample.txt\") as f:\n",
        "  print(f.read(10))\n",
        "  print(f.tell())\n",
        "  f.seek(0)\n",
        "  print(f.read(10))"
      ],
      "metadata": {
        "colab": {
          "base_uri": "https://localhost:8080/"
        },
        "id": "fu-6BDNyL61P",
        "outputId": "155a957f-0e6d-44cd-e267-e62091f16b66"
      },
      "execution_count": null,
      "outputs": [
        {
          "output_type": "stream",
          "name": "stdout",
          "text": [
            "hi\n",
            "hello\n",
            "h\n",
            "10\n",
            "hi\n",
            "hello\n",
            "h\n"
          ]
        }
      ]
    },
    {
      "cell_type": "code",
      "source": [
        "with open(\"sample1.txt\", \"w\") as f:\n",
        "  f.write(\"hello\")\n",
        "  f.seek(0)\n",
        "  f.write(\"x\")"
      ],
      "metadata": {
        "id": "mF-9ohCNNWU3"
      },
      "execution_count": null,
      "outputs": []
    },
    {
      "cell_type": "code",
      "source": [
        "with open(\"/content/ai-for-everyone-master-the-basics.png\", \"r\") as f:\n",
        "  print(f.read())"
      ],
      "metadata": {
        "colab": {
          "base_uri": "https://localhost:8080/",
          "height": 331
        },
        "id": "KxdbGA4DOEBx",
        "outputId": "0f59eafb-acb5-4250-8229-df5300d532a8"
      },
      "execution_count": null,
      "outputs": [
        {
          "output_type": "error",
          "ename": "UnicodeDecodeError",
          "evalue": "ignored",
          "traceback": [
            "\u001b[0;31m---------------------------------------------------------------------------\u001b[0m",
            "\u001b[0;31mUnicodeDecodeError\u001b[0m                        Traceback (most recent call last)",
            "\u001b[0;32m<ipython-input-39-6cfed0c94f2e>\u001b[0m in \u001b[0;36m<cell line: 1>\u001b[0;34m()\u001b[0m\n\u001b[1;32m      1\u001b[0m \u001b[0;32mwith\u001b[0m \u001b[0mopen\u001b[0m\u001b[0;34m(\u001b[0m\u001b[0;34m\"/content/ai-for-everyone-master-the-basics.png\"\u001b[0m\u001b[0;34m,\u001b[0m \u001b[0;34m\"r\"\u001b[0m\u001b[0;34m)\u001b[0m \u001b[0;32mas\u001b[0m \u001b[0mf\u001b[0m\u001b[0;34m:\u001b[0m\u001b[0;34m\u001b[0m\u001b[0;34m\u001b[0m\u001b[0m\n\u001b[0;32m----> 2\u001b[0;31m   \u001b[0mprint\u001b[0m\u001b[0;34m(\u001b[0m\u001b[0mf\u001b[0m\u001b[0;34m.\u001b[0m\u001b[0mread\u001b[0m\u001b[0;34m(\u001b[0m\u001b[0;34m)\u001b[0m\u001b[0;34m)\u001b[0m\u001b[0;34m\u001b[0m\u001b[0;34m\u001b[0m\u001b[0m\n\u001b[0m",
            "\u001b[0;32m/usr/lib/python3.10/codecs.py\u001b[0m in \u001b[0;36mdecode\u001b[0;34m(self, input, final)\u001b[0m\n\u001b[1;32m    320\u001b[0m         \u001b[0;31m# decode input (taking the buffer into account)\u001b[0m\u001b[0;34m\u001b[0m\u001b[0;34m\u001b[0m\u001b[0m\n\u001b[1;32m    321\u001b[0m         \u001b[0mdata\u001b[0m \u001b[0;34m=\u001b[0m \u001b[0mself\u001b[0m\u001b[0;34m.\u001b[0m\u001b[0mbuffer\u001b[0m \u001b[0;34m+\u001b[0m \u001b[0minput\u001b[0m\u001b[0;34m\u001b[0m\u001b[0;34m\u001b[0m\u001b[0m\n\u001b[0;32m--> 322\u001b[0;31m         \u001b[0;34m(\u001b[0m\u001b[0mresult\u001b[0m\u001b[0;34m,\u001b[0m \u001b[0mconsumed\u001b[0m\u001b[0;34m)\u001b[0m \u001b[0;34m=\u001b[0m \u001b[0mself\u001b[0m\u001b[0;34m.\u001b[0m\u001b[0m_buffer_decode\u001b[0m\u001b[0;34m(\u001b[0m\u001b[0mdata\u001b[0m\u001b[0;34m,\u001b[0m \u001b[0mself\u001b[0m\u001b[0;34m.\u001b[0m\u001b[0merrors\u001b[0m\u001b[0;34m,\u001b[0m \u001b[0mfinal\u001b[0m\u001b[0;34m)\u001b[0m\u001b[0;34m\u001b[0m\u001b[0;34m\u001b[0m\u001b[0m\n\u001b[0m\u001b[1;32m    323\u001b[0m         \u001b[0;31m# keep undecoded input until the next call\u001b[0m\u001b[0;34m\u001b[0m\u001b[0;34m\u001b[0m\u001b[0m\n\u001b[1;32m    324\u001b[0m         \u001b[0mself\u001b[0m\u001b[0;34m.\u001b[0m\u001b[0mbuffer\u001b[0m \u001b[0;34m=\u001b[0m \u001b[0mdata\u001b[0m\u001b[0;34m[\u001b[0m\u001b[0mconsumed\u001b[0m\u001b[0;34m:\u001b[0m\u001b[0;34m]\u001b[0m\u001b[0;34m\u001b[0m\u001b[0;34m\u001b[0m\u001b[0m\n",
            "\u001b[0;31mUnicodeDecodeError\u001b[0m: 'utf-8' codec can't decode byte 0x89 in position 0: invalid start byte"
          ]
        }
      ]
    },
    {
      "cell_type": "code",
      "source": [
        "with open(\"/content/ai-for-everyone-master-the-basics.png\", \"rb\") as f:\n",
        "  with open (\"/content/copy_ai-for-everyone-master-the-basics.png\", \"wb\") as wf:\n",
        "    wf.write(f.read())"
      ],
      "metadata": {
        "id": "GcETy2EcPEbv"
      },
      "execution_count": null,
      "outputs": []
    },
    {
      "cell_type": "code",
      "source": [
        "d = {\n",
        "    \"name\": \"pree\",\n",
        "    \"age\" : 34\n",
        "}\n",
        "\n",
        "with open(\"sample.txt\", \"w\") as f:\n",
        "  f.write(str(d))"
      ],
      "metadata": {
        "id": "2AfhLnqsRAO_"
      },
      "execution_count": null,
      "outputs": []
    },
    {
      "cell_type": "markdown",
      "source": [
        "# Serialization - python to json, deserialization - json to python"
      ],
      "metadata": {
        "id": "37REwQsGSmUs"
      }
    },
    {
      "cell_type": "code",
      "source": [
        "import json\n",
        "\n",
        "l = [ 1,2,3,4]\n",
        "with open(\"demo.json\",\"w\") as f:\n",
        "  json.dump(l,f)"
      ],
      "metadata": {
        "id": "ASW1ildqR0sT"
      },
      "execution_count": null,
      "outputs": []
    },
    {
      "cell_type": "code",
      "source": [
        "d = {\n",
        "    \"name\": \"pree\",\n",
        "    \"age\" : 34\n",
        "}\n",
        "with open(\"demo.json\",\"w\") as f:\n",
        "  json.dump(d,f, indent = 4)"
      ],
      "metadata": {
        "id": "Fwhbr7TlTT7M"
      },
      "execution_count": null,
      "outputs": []
    },
    {
      "cell_type": "code",
      "source": [
        "with open(\"demo.json\", \"r\") as f:\n",
        "  d = json.load(f)\n",
        "  print(d)\n",
        "  print(type(d))"
      ],
      "metadata": {
        "colab": {
          "base_uri": "https://localhost:8080/"
        },
        "id": "IU2P_cMaTjPf",
        "outputId": "16901489-127e-4bcb-e8f4-dcb781315cad"
      },
      "execution_count": null,
      "outputs": [
        {
          "output_type": "stream",
          "name": "stdout",
          "text": [
            "{'name': 'pree', 'age': 34}\n",
            "<class 'dict'>\n"
          ]
        }
      ]
    },
    {
      "cell_type": "code",
      "source": [
        "class Person:\n",
        "  def __init__(self, fname,lname, age,gender ):\n",
        "    self.fname = fname\n",
        "    self.lname = lname\n",
        "    self.age = age\n",
        "    self.gender = gender\n",
        "\n"
      ],
      "metadata": {
        "id": "w7bTOAJDULRq"
      },
      "execution_count": null,
      "outputs": []
    },
    {
      "cell_type": "code",
      "source": [
        "p = Person(\"preetam\", \"saha\", 34, \"male\")"
      ],
      "metadata": {
        "id": "sRTd58NhPIUf"
      },
      "execution_count": null,
      "outputs": []
    },
    {
      "cell_type": "code",
      "source": [
        "# as a string\n",
        "\n",
        "import json\n",
        "\n",
        "with open(\"demo.json\", \"w\") as f:\n",
        "  json.dump(p,f)"
      ],
      "metadata": {
        "colab": {
          "base_uri": "https://localhost:8080/",
          "height": 355
        },
        "id": "xA0_wvcUPiUM",
        "outputId": "5f624fa2-b961-4262-bd78-dc5c8813586c"
      },
      "execution_count": null,
      "outputs": [
        {
          "output_type": "error",
          "ename": "TypeError",
          "evalue": "ignored",
          "traceback": [
            "\u001b[0;31m---------------------------------------------------------------------------\u001b[0m",
            "\u001b[0;31mTypeError\u001b[0m                                 Traceback (most recent call last)",
            "\u001b[0;32m<ipython-input-3-2712fcceb789>\u001b[0m in \u001b[0;36m<cell line: 5>\u001b[0;34m()\u001b[0m\n\u001b[1;32m      4\u001b[0m \u001b[0;34m\u001b[0m\u001b[0m\n\u001b[1;32m      5\u001b[0m \u001b[0;32mwith\u001b[0m \u001b[0mopen\u001b[0m\u001b[0;34m(\u001b[0m\u001b[0;34m\"demo.json\"\u001b[0m\u001b[0;34m,\u001b[0m \u001b[0;34m\"w\"\u001b[0m\u001b[0;34m)\u001b[0m \u001b[0;32mas\u001b[0m \u001b[0mf\u001b[0m\u001b[0;34m:\u001b[0m\u001b[0;34m\u001b[0m\u001b[0;34m\u001b[0m\u001b[0m\n\u001b[0;32m----> 6\u001b[0;31m   \u001b[0mjson\u001b[0m\u001b[0;34m.\u001b[0m\u001b[0mdump\u001b[0m\u001b[0;34m(\u001b[0m\u001b[0mp\u001b[0m\u001b[0;34m,\u001b[0m\u001b[0mf\u001b[0m\u001b[0;34m)\u001b[0m\u001b[0;34m\u001b[0m\u001b[0;34m\u001b[0m\u001b[0m\n\u001b[0m",
            "\u001b[0;32m/usr/lib/python3.10/json/__init__.py\u001b[0m in \u001b[0;36mdump\u001b[0;34m(obj, fp, skipkeys, ensure_ascii, check_circular, allow_nan, cls, indent, separators, default, sort_keys, **kw)\u001b[0m\n\u001b[1;32m    177\u001b[0m     \u001b[0;31m# could accelerate with writelines in some versions of Python, at\u001b[0m\u001b[0;34m\u001b[0m\u001b[0;34m\u001b[0m\u001b[0m\n\u001b[1;32m    178\u001b[0m     \u001b[0;31m# a debuggability cost\u001b[0m\u001b[0;34m\u001b[0m\u001b[0;34m\u001b[0m\u001b[0m\n\u001b[0;32m--> 179\u001b[0;31m     \u001b[0;32mfor\u001b[0m \u001b[0mchunk\u001b[0m \u001b[0;32min\u001b[0m \u001b[0miterable\u001b[0m\u001b[0;34m:\u001b[0m\u001b[0;34m\u001b[0m\u001b[0;34m\u001b[0m\u001b[0m\n\u001b[0m\u001b[1;32m    180\u001b[0m         \u001b[0mfp\u001b[0m\u001b[0;34m.\u001b[0m\u001b[0mwrite\u001b[0m\u001b[0;34m(\u001b[0m\u001b[0mchunk\u001b[0m\u001b[0;34m)\u001b[0m\u001b[0;34m\u001b[0m\u001b[0;34m\u001b[0m\u001b[0m\n\u001b[1;32m    181\u001b[0m \u001b[0;34m\u001b[0m\u001b[0m\n",
            "\u001b[0;32m/usr/lib/python3.10/json/encoder.py\u001b[0m in \u001b[0;36m_iterencode\u001b[0;34m(o, _current_indent_level)\u001b[0m\n\u001b[1;32m    436\u001b[0m                     \u001b[0;32mraise\u001b[0m \u001b[0mValueError\u001b[0m\u001b[0;34m(\u001b[0m\u001b[0;34m\"Circular reference detected\"\u001b[0m\u001b[0;34m)\u001b[0m\u001b[0;34m\u001b[0m\u001b[0;34m\u001b[0m\u001b[0m\n\u001b[1;32m    437\u001b[0m                 \u001b[0mmarkers\u001b[0m\u001b[0;34m[\u001b[0m\u001b[0mmarkerid\u001b[0m\u001b[0;34m]\u001b[0m \u001b[0;34m=\u001b[0m \u001b[0mo\u001b[0m\u001b[0;34m\u001b[0m\u001b[0;34m\u001b[0m\u001b[0m\n\u001b[0;32m--> 438\u001b[0;31m             \u001b[0mo\u001b[0m \u001b[0;34m=\u001b[0m \u001b[0m_default\u001b[0m\u001b[0;34m(\u001b[0m\u001b[0mo\u001b[0m\u001b[0;34m)\u001b[0m\u001b[0;34m\u001b[0m\u001b[0;34m\u001b[0m\u001b[0m\n\u001b[0m\u001b[1;32m    439\u001b[0m             \u001b[0;32myield\u001b[0m \u001b[0;32mfrom\u001b[0m \u001b[0m_iterencode\u001b[0m\u001b[0;34m(\u001b[0m\u001b[0mo\u001b[0m\u001b[0;34m,\u001b[0m \u001b[0m_current_indent_level\u001b[0m\u001b[0;34m)\u001b[0m\u001b[0;34m\u001b[0m\u001b[0;34m\u001b[0m\u001b[0m\n\u001b[1;32m    440\u001b[0m             \u001b[0;32mif\u001b[0m \u001b[0mmarkers\u001b[0m \u001b[0;32mis\u001b[0m \u001b[0;32mnot\u001b[0m \u001b[0;32mNone\u001b[0m\u001b[0;34m:\u001b[0m\u001b[0;34m\u001b[0m\u001b[0;34m\u001b[0m\u001b[0m\n",
            "\u001b[0;32m/usr/lib/python3.10/json/encoder.py\u001b[0m in \u001b[0;36mdefault\u001b[0;34m(self, o)\u001b[0m\n\u001b[1;32m    177\u001b[0m \u001b[0;34m\u001b[0m\u001b[0m\n\u001b[1;32m    178\u001b[0m         \"\"\"\n\u001b[0;32m--> 179\u001b[0;31m         raise TypeError(f'Object of type {o.__class__.__name__} '\n\u001b[0m\u001b[1;32m    180\u001b[0m                         f'is not JSON serializable')\n\u001b[1;32m    181\u001b[0m \u001b[0;34m\u001b[0m\u001b[0m\n",
            "\u001b[0;31mTypeError\u001b[0m: Object of type Person is not JSON serializable"
          ]
        }
      ]
    },
    {
      "cell_type": "code",
      "source": [
        "import json\n",
        "\n",
        "def show_info(person):\n",
        "  if isinstance(person, Person):\n",
        "    return f\"{person.fname} {person.lname} ---> {person.age} ---> {person.gender}\"\n",
        "\n",
        "\n",
        "with open(\"demo.json\", \"w\") as f:\n",
        "  json.dump(p,f, default = show_info)"
      ],
      "metadata": {
        "id": "CZcIuQPRPyM_"
      },
      "execution_count": null,
      "outputs": []
    },
    {
      "cell_type": "markdown",
      "source": [
        "# deserializing"
      ],
      "metadata": {
        "id": "59HcYFZOTAPi"
      }
    },
    {
      "cell_type": "code",
      "source": [
        "import json\n",
        "\n",
        "with open(\"demo.json\", \"r\") as f:\n",
        "  print(json.load(f))"
      ],
      "metadata": {
        "colab": {
          "base_uri": "https://localhost:8080/"
        },
        "id": "-v_D9jZ1RKfV",
        "outputId": "bf86841a-0152-43b6-b043-db56dacfdb92"
      },
      "execution_count": null,
      "outputs": [
        {
          "output_type": "stream",
          "name": "stdout",
          "text": [
            "preetam saha ---> 34 ---> male\n"
          ]
        }
      ]
    },
    {
      "cell_type": "markdown",
      "source": [
        "# Pickiling"
      ],
      "metadata": {
        "id": "jzAksfo1VzRD"
      }
    },
    {
      "cell_type": "code",
      "source": [
        "class Person:\n",
        "  def __init__(self, name, age):\n",
        "    self.name = name\n",
        "    self.age = age\n",
        "\n",
        "  def display_info(self):\n",
        "    print(f\"My name is {self.name} and I am {self.age} years old\")\n",
        "\n"
      ],
      "metadata": {
        "id": "n0sPza9BTPTZ"
      },
      "execution_count": null,
      "outputs": []
    },
    {
      "cell_type": "code",
      "source": [
        "p = Person(\"preetam\", 34)"
      ],
      "metadata": {
        "id": "Eiplhc5HXNE3"
      },
      "execution_count": null,
      "outputs": []
    },
    {
      "cell_type": "code",
      "source": [
        "import pickle\n",
        "\n",
        "with open(\"demo.pkl\", \"w\") as f:\n",
        "  pickle.dump(p,f)"
      ],
      "metadata": {
        "colab": {
          "base_uri": "https://localhost:8080/",
          "height": 210
        },
        "id": "k_oVfJCxXQVO",
        "outputId": "497228b5-e8c9-47d6-a193-c5cc0403a7c5"
      },
      "execution_count": null,
      "outputs": [
        {
          "output_type": "error",
          "ename": "TypeError",
          "evalue": "ignored",
          "traceback": [
            "\u001b[0;31m---------------------------------------------------------------------------\u001b[0m",
            "\u001b[0;31mTypeError\u001b[0m                                 Traceback (most recent call last)",
            "\u001b[0;32m<ipython-input-10-6e7ad266466b>\u001b[0m in \u001b[0;36m<cell line: 3>\u001b[0;34m()\u001b[0m\n\u001b[1;32m      2\u001b[0m \u001b[0;34m\u001b[0m\u001b[0m\n\u001b[1;32m      3\u001b[0m \u001b[0;32mwith\u001b[0m \u001b[0mopen\u001b[0m\u001b[0;34m(\u001b[0m\u001b[0;34m\"demo.pkl\"\u001b[0m\u001b[0;34m,\u001b[0m \u001b[0;34m\"w\"\u001b[0m\u001b[0;34m)\u001b[0m \u001b[0;32mas\u001b[0m \u001b[0mf\u001b[0m\u001b[0;34m:\u001b[0m\u001b[0;34m\u001b[0m\u001b[0;34m\u001b[0m\u001b[0m\n\u001b[0;32m----> 4\u001b[0;31m   \u001b[0mpickle\u001b[0m\u001b[0;34m.\u001b[0m\u001b[0mdump\u001b[0m\u001b[0;34m(\u001b[0m\u001b[0mp\u001b[0m\u001b[0;34m,\u001b[0m\u001b[0mf\u001b[0m\u001b[0;34m)\u001b[0m\u001b[0;34m\u001b[0m\u001b[0;34m\u001b[0m\u001b[0m\n\u001b[0m",
            "\u001b[0;31mTypeError\u001b[0m: write() argument must be str, not bytes"
          ]
        }
      ]
    },
    {
      "cell_type": "code",
      "source": [
        "import pickle\n",
        "\n",
        "with open(\"demo.pkl\", \"wb\") as f:\n",
        "  pickle.dump(p,f)"
      ],
      "metadata": {
        "id": "zOQJioAfXiBL"
      },
      "execution_count": null,
      "outputs": []
    },
    {
      "cell_type": "code",
      "source": [
        "import pickle\n",
        "\n",
        "with open(\"demo.pkl\", \"rb\") as f:\n",
        "  p = pickle.load(f)\n",
        "\n",
        "p.display_info()"
      ],
      "metadata": {
        "colab": {
          "base_uri": "https://localhost:8080/"
        },
        "id": "1OE2RrCWYlpy",
        "outputId": "defc24ec-1ae7-4cb7-a469-6509bd12f86f"
      },
      "execution_count": null,
      "outputs": [
        {
          "output_type": "stream",
          "name": "stdout",
          "text": [
            "My name is preetam and I am 34 years old\n"
          ]
        }
      ]
    },
    {
      "cell_type": "code",
      "source": [
        "class Bank:\n",
        "  def __init__(self,balance):\n",
        "    self.balance = balance\n",
        "\n",
        "  def withdraw(self,amount):\n",
        "    self.balance = self.balance - amount\n",
        "\n",
        "obj = Bank(5000)\n",
        "obj.withdraw(500)\n",
        "obj.balance"
      ],
      "metadata": {
        "id": "Pk-WrovxZPmQ",
        "colab": {
          "base_uri": "https://localhost:8080/"
        },
        "outputId": "fb2d8b16-951d-438d-cae8-62ec3cf62987"
      },
      "execution_count": null,
      "outputs": [
        {
          "output_type": "execute_result",
          "data": {
            "text/plain": [
              "4500"
            ]
          },
          "metadata": {},
          "execution_count": 2
        }
      ]
    },
    {
      "cell_type": "code",
      "source": [
        "class Bank:\n",
        "  def __init__(self,balance):\n",
        "    self.balance = balance\n",
        "\n",
        "  def withdraw(self,amount):\n",
        "    if amount <0:\n",
        "      raise Exception(\"amount cannot be negative\")\n",
        "    elif self.balance < amount:\n",
        "      raise Exception(\"You dont have sufficient balance\")\n",
        "    else:\n",
        "      self.balance = self.balance - amount\n",
        "\n",
        "obj = Bank(5000)\n",
        "try:\n",
        "  obj.withdraw(-50000)\n",
        "except Exception as e:\n",
        "  print(e)\n",
        "else:\n",
        "  print(obj.balance)"
      ],
      "metadata": {
        "colab": {
          "base_uri": "https://localhost:8080/"
        },
        "id": "I-Kj5eQUNXoH",
        "outputId": "d3e3c87e-7d29-4549-f794-69365ca990dd"
      },
      "execution_count": null,
      "outputs": [
        {
          "output_type": "stream",
          "name": "stdout",
          "text": [
            "amount cannot be negative\n"
          ]
        }
      ]
    },
    {
      "cell_type": "code",
      "source": [
        "class MyException(Exception):\n",
        "  def __init__(self,message):\n",
        "    print(message)\n",
        "\n",
        "class Bank:\n",
        "  def __init__(self,balance):\n",
        "    self.balance = balance\n",
        "\n",
        "  def withdraw(self,amount):\n",
        "    if amount <0:\n",
        "      raise MyException(\"amount cannot be negative\")\n",
        "    elif self.balance < amount:\n",
        "      raise MyException(\"You dont have sufficient balance\")\n",
        "    else:\n",
        "      self.balance = self.balance - amount\n",
        "\n",
        "obj = Bank(5000)\n",
        "try:\n",
        "  obj.withdraw(-50000)\n",
        "except MyException as e:\n",
        "  pass\n",
        "else:\n",
        "  print(obj.balance)"
      ],
      "metadata": {
        "colab": {
          "base_uri": "https://localhost:8080/"
        },
        "id": "D9-cOru8PRYH",
        "outputId": "a02867fb-9ca2-4f74-fb18-61c3ddbf6dd7"
      },
      "execution_count": null,
      "outputs": [
        {
          "output_type": "stream",
          "name": "stdout",
          "text": [
            "amount cannot be negative\n"
          ]
        }
      ]
    },
    {
      "cell_type": "code",
      "source": [
        "class SecurityError(Exception):\n",
        "  def __init__(self,message):\n",
        "    print(message)\n",
        "\n",
        "  def logout(self):\n",
        "    print(\"loggedout\")\n",
        "\n",
        "class App():\n",
        "  def __init__(self,name,email,password,device):\n",
        "    self.name = name\n",
        "    self.email = email\n",
        "    self.password = password\n",
        "    self.device = device\n",
        "\n",
        "  def login(self,name,email,password,device):\n",
        "    if device != self.device:\n",
        "      raise SecurityError(\"U r connected with another device\")\n",
        "    if email == self.email and password == self.password:\n",
        "      print(\"welcome\")\n",
        "    else:\n",
        "      print(\"login error\")\n",
        "\n",
        "obj = App(\"preetam\",\"preetam@email.com\",\"1234\",\"android\")\n",
        "\n",
        "try:\n",
        "  obj.login(\"preetam\",\"preetam@email.com\",\"1234\",\"android\")\n",
        "except SecurityError as e:\n",
        "  e.logout()\n",
        "else:\n",
        "  print(obj.name)\n",
        "finally:\n",
        "  print(\"database connection closed\")\n",
        "\n"
      ],
      "metadata": {
        "colab": {
          "base_uri": "https://localhost:8080/"
        },
        "id": "P21fliM2Q8HS",
        "outputId": "dcf67016-be16-4cbf-9aa8-973ba8604b81"
      },
      "execution_count": null,
      "outputs": [
        {
          "output_type": "stream",
          "name": "stdout",
          "text": [
            "welcome\n",
            "preetam\n",
            "database connection closed\n"
          ]
        }
      ]
    },
    {
      "cell_type": "code",
      "source": [
        "import time\n",
        "\n",
        "def dec(func):\n",
        "  def wrapper():\n",
        "    start = time.time()\n",
        "    func()\n",
        "    print(\"Execution time of \", func.__name__, time.time()-start , \"secs\")\n",
        "  return wrapper\n",
        "\n",
        "@dec\n",
        "def hello():\n",
        "  print(\"hello Pree\")\n",
        "  time.sleep(2)\n",
        "\n",
        "hello()"
      ],
      "metadata": {
        "id": "vcB3P1g6esWt",
        "colab": {
          "base_uri": "https://localhost:8080/"
        },
        "outputId": "9e6a8471-001a-4fdd-f686-234d79a08dc9"
      },
      "execution_count": null,
      "outputs": [
        {
          "output_type": "stream",
          "name": "stdout",
          "text": [
            "hello Pree\n",
            "Execution time of  hello 2.002248525619507 secs\n"
          ]
        }
      ]
    },
    {
      "cell_type": "code",
      "source": [
        "import time\n",
        "\n",
        "def dec(func):\n",
        "  def wrapper():\n",
        "    start = time.time()\n",
        "    func()\n",
        "    print(\"Execution time of \", func.__name__, time.time()-start , \"secs\")\n",
        "  return wrapper\n",
        "\n",
        "@dec\n",
        "def hello():\n",
        "  print(\"hello Pree\")\n",
        "  time.sleep(2)\n",
        "\n",
        "@dec\n",
        "def display():\n",
        "  print(\"display pree\")\n",
        "  time.sleep(1)\n",
        "\n",
        "hello()\n",
        "display()"
      ],
      "metadata": {
        "colab": {
          "base_uri": "https://localhost:8080/"
        },
        "id": "3KRXDsX2u46L",
        "outputId": "a16a5abe-c5f2-454c-a783-e886b226e0af"
      },
      "execution_count": null,
      "outputs": [
        {
          "output_type": "stream",
          "name": "stdout",
          "text": [
            "hello Pree\n",
            "Execution time of  hello 2.0080718994140625 secs\n",
            "display pree\n",
            "Execution time of  display 1.0006814002990723 secs\n"
          ]
        }
      ]
    },
    {
      "cell_type": "code",
      "source": [
        "import time\n",
        "\n",
        "def dec(func):\n",
        "  def wrapper(*args):\n",
        "    start = time.time()\n",
        "    func(*args)\n",
        "    print(\"Execution time of \", func.__name__, time.time()-start , \"secs\")\n",
        "  return wrapper\n",
        "\n",
        "@dec\n",
        "def hello():\n",
        "  print(\"hello Pree\")\n",
        "  time.sleep(2)\n",
        "\n",
        "@dec\n",
        "def display():\n",
        "  print(\"display pree\")\n",
        "  time.sleep(1)\n",
        "\n",
        "@dec\n",
        "def square(n):\n",
        "  print(n**2)\n",
        "\n",
        "@dec\n",
        "def any_power(a,b):\n",
        "  print(a**b)\n",
        "\n",
        "\n",
        "hello()\n",
        "display()\n",
        "square(3)\n",
        "any_power(4,9)"
      ],
      "metadata": {
        "colab": {
          "base_uri": "https://localhost:8080/"
        },
        "id": "0F48PArMvudn",
        "outputId": "8444f3c9-969d-45a6-e47a-1168f26ac7de"
      },
      "execution_count": null,
      "outputs": [
        {
          "output_type": "stream",
          "name": "stdout",
          "text": [
            "hello Pree\n",
            "Execution time of  hello 2.008556604385376 secs\n",
            "display pree\n",
            "Execution time of  display 1.00063157081604 secs\n",
            "9\n",
            "Execution time of  square 4.172325134277344e-05 secs\n",
            "262144\n",
            "Execution time of  any_power 2.6226043701171875e-05 secs\n"
          ]
        }
      ]
    },
    {
      "cell_type": "code",
      "source": [
        "def sanity_check(data_type):\n",
        "  def outer_wrapper(func):\n",
        "    def inner_wrapper(*args):\n",
        "      if type(args[0]) == data_type:\n",
        "        func(*args)\n",
        "      else:\n",
        "        raise TypeError(\"Wrong datatype entered\")\n",
        "    return inner_wrapper\n",
        "  return outer_wrapper\n",
        "\n",
        "@sanity_check(int)\n",
        "def square(n):\n",
        "  print(n**2)\n",
        "\n",
        "@sanity_check(str)\n",
        "def greet(name):\n",
        "  print(\"Hello\", name)\n",
        "\n",
        "greet(\"preetam\")\n",
        "square(2)"
      ],
      "metadata": {
        "colab": {
          "base_uri": "https://localhost:8080/"
        },
        "id": "j1dgQ-zl9NBG",
        "outputId": "e1a0ac46-30c3-439c-dfad-eb23272b4178"
      },
      "execution_count": null,
      "outputs": [
        {
          "output_type": "stream",
          "name": "stdout",
          "text": [
            "Hello preetam\n",
            "4\n"
          ]
        }
      ]
    },
    {
      "cell_type": "code",
      "source": [
        "def sanity_check(data_type):\n",
        "  def outer_wrapper(func):\n",
        "    def inner_wrapper(*args):\n",
        "      if type(args[0]) == data_type:\n",
        "        func(*args)\n",
        "      else:\n",
        "        raise TypeError(\"Wrong datatype entered\")\n",
        "    return inner_wrapper\n",
        "  return outer_wrapper\n",
        "\n",
        "@sanity_check(int)\n",
        "def square(n):\n",
        "  print(n**2)\n",
        "\n",
        "square(\"2\")"
      ],
      "metadata": {
        "colab": {
          "base_uri": "https://localhost:8080/",
          "height": 331
        },
        "id": "XqcTZiJo_7Uf",
        "outputId": "5015a200-e722-4ec3-a4f4-72c88ce0f4a0"
      },
      "execution_count": null,
      "outputs": [
        {
          "output_type": "error",
          "ename": "TypeError",
          "evalue": "ignored",
          "traceback": [
            "\u001b[0;31m---------------------------------------------------------------------------\u001b[0m",
            "\u001b[0;31mTypeError\u001b[0m                                 Traceback (most recent call last)",
            "\u001b[0;32m<ipython-input-21-786b96062c4e>\u001b[0m in \u001b[0;36m<cell line: 15>\u001b[0;34m()\u001b[0m\n\u001b[1;32m     13\u001b[0m   \u001b[0mprint\u001b[0m\u001b[0;34m(\u001b[0m\u001b[0mn\u001b[0m\u001b[0;34m**\u001b[0m\u001b[0;36m2\u001b[0m\u001b[0;34m)\u001b[0m\u001b[0;34m\u001b[0m\u001b[0;34m\u001b[0m\u001b[0m\n\u001b[1;32m     14\u001b[0m \u001b[0;34m\u001b[0m\u001b[0m\n\u001b[0;32m---> 15\u001b[0;31m \u001b[0msquare\u001b[0m\u001b[0;34m(\u001b[0m\u001b[0;34m\"2\"\u001b[0m\u001b[0;34m)\u001b[0m\u001b[0;34m\u001b[0m\u001b[0;34m\u001b[0m\u001b[0m\n\u001b[0m",
            "\u001b[0;32m<ipython-input-21-786b96062c4e>\u001b[0m in \u001b[0;36minner_wrapper\u001b[0;34m(*args)\u001b[0m\n\u001b[1;32m      5\u001b[0m         \u001b[0mfunc\u001b[0m\u001b[0;34m(\u001b[0m\u001b[0;34m*\u001b[0m\u001b[0margs\u001b[0m\u001b[0;34m)\u001b[0m\u001b[0;34m\u001b[0m\u001b[0;34m\u001b[0m\u001b[0m\n\u001b[1;32m      6\u001b[0m       \u001b[0;32melse\u001b[0m\u001b[0;34m:\u001b[0m\u001b[0;34m\u001b[0m\u001b[0;34m\u001b[0m\u001b[0m\n\u001b[0;32m----> 7\u001b[0;31m         \u001b[0;32mraise\u001b[0m \u001b[0mTypeError\u001b[0m\u001b[0;34m(\u001b[0m\u001b[0;34m\"Wrong datatype entered\"\u001b[0m\u001b[0;34m)\u001b[0m\u001b[0;34m\u001b[0m\u001b[0;34m\u001b[0m\u001b[0m\n\u001b[0m\u001b[1;32m      8\u001b[0m     \u001b[0;32mreturn\u001b[0m \u001b[0minner_wrapper\u001b[0m\u001b[0;34m\u001b[0m\u001b[0;34m\u001b[0m\u001b[0m\n\u001b[1;32m      9\u001b[0m   \u001b[0;32mreturn\u001b[0m \u001b[0mouter_wrapper\u001b[0m\u001b[0;34m\u001b[0m\u001b[0;34m\u001b[0m\u001b[0m\n",
            "\u001b[0;31mTypeError\u001b[0m: Wrong datatype entered"
          ]
        }
      ]
    },
    {
      "cell_type": "markdown",
      "source": [
        "# closure\n",
        "Python closure is a nested function that allows us to access variables of the outer function even after the outer function is closed."
      ],
      "metadata": {
        "id": "KyX_YIi1z8Ud"
      }
    },
    {
      "cell_type": "code",
      "source": [
        "def greet(name):\n",
        "  def display_name():\n",
        "    print(\"hi\", name)\n",
        "\n",
        "  display_name()\n",
        "\n",
        "greet(\"preet\")"
      ],
      "metadata": {
        "colab": {
          "base_uri": "https://localhost:8080/"
        },
        "id": "-_LCJXuR0CRI",
        "outputId": "f3e6532b-01ce-40e4-b430-45166980f4ba"
      },
      "execution_count": null,
      "outputs": [
        {
          "output_type": "stream",
          "name": "stdout",
          "text": [
            "hi preet\n"
          ]
        }
      ]
    },
    {
      "cell_type": "code",
      "source": [
        "def greet():\n",
        "  name = \"pree\"\n",
        "  return lambda: \"hi \" + name\n",
        "\n",
        "a = greet()\n",
        "a()"
      ],
      "metadata": {
        "colab": {
          "base_uri": "https://localhost:8080/",
          "height": 36
        },
        "id": "pBfnZxZS0cXw",
        "outputId": "a8cccca3-d788-422d-c924-7515f878cbe7"
      },
      "execution_count": null,
      "outputs": [
        {
          "output_type": "execute_result",
          "data": {
            "text/plain": [
              "'hi pree'"
            ],
            "application/vnd.google.colaboratory.intrinsic+json": {
              "type": "string"
            }
          },
          "metadata": {},
          "execution_count": 12
        }
      ]
    },
    {
      "cell_type": "code",
      "source": [
        "def greet():\n",
        "  name = \"preetam\"\n",
        "\n",
        "  def wrapper():\n",
        "    print(\"hi \" + name)\n",
        "\n",
        "  return wrapper\n",
        "\n",
        "b = greet()\n",
        "b()"
      ],
      "metadata": {
        "colab": {
          "base_uri": "https://localhost:8080/"
        },
        "id": "n_gP06GC1Ghb",
        "outputId": "62e85bbe-93ac-4b0d-f0d1-aac89f785990"
      },
      "execution_count": null,
      "outputs": [
        {
          "output_type": "stream",
          "name": "stdout",
          "text": [
            "hi preetam\n"
          ]
        }
      ]
    },
    {
      "cell_type": "code",
      "source": [],
      "metadata": {
        "id": "CnpDrvfA9L6b"
      },
      "execution_count": null,
      "outputs": []
    }
  ]
}